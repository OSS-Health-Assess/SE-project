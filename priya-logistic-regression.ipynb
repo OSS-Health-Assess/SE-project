{
 "cells": [
  {
   "cell_type": "code",
   "execution_count": 1,
   "metadata": {},
   "outputs": [],
   "source": [
    "import os\n",
    "import pandas as pd\n",
    "import numpy as np\n",
    "from sklearn.preprocessing import StandardScaler\n",
    "\n",
    "\n",
    "def clean_csv_files(folder_path):\n",
    "  cleaned_dataframes = {}\n",
    "\n",
    "  # List of additional columns to drop\n",
    "  columns_to_drop = [\n",
    "      \"status\", \"start_date\", \"end_date\", \"window_start_date\", \"window_end_date\",\n",
    "      \"emails\", \"devs\", \"emails_thread_starter\", \"emails_thread_starter_word_count\",\n",
    "      \"emails_thread_starter_characters\", \"emails_threads\", \"emails_threads_word_count\",\n",
    "      \"emails_threads_characters\", \"emails_no_replies\", \"emails_no_replies_word_count\",\n",
    "      \"emails_no_replies_characters\", \"emails_jira\", \"most_complex_unit_loc\",\n",
    "      \"most_complex_unit_mcabe_index\", \"total_number_of_files\", \"number_of_files_main\",\n",
    "      \"lines_of_code_main\", \"number_of_files_test\", \"lines_of_code_test\",\n",
    "      \"test_vs_main_lines_of_code_percentage\", \"number_of_files_generated\",\n",
    "      \"lines_of_code_generated\", \"number_of_files_build_and_deployment\",\n",
    "      \"lines_of_code_build_and_deployment\", \"negligible_risk_file_size_count\",\n",
    "      \"low_risk_file_size_count\", \"medium_risk_file_size_count\", \"high_risk_file_size_count\",\n",
    "      \"very_high_risk_file_size_count\", \"negligible_risk_file_size_loc\", \"low_risk_file_size_loc\",\n",
    "      \"medium_risk_file_size_loc\", \"high_risk_file_size_loc\", \"very_high_risk_file_size_loc\",\n",
    "      \"number_of_units\", \"lines_of_code_in_units\", \"lines_of_code_outside_units\",\n",
    "      \"unit_size_negligible_risk_loc\", \"unit_size_negligible_risk_count\", \"unit_size_low_risk_loc\",\n",
    "      \"unit_size_low_risk_count\", \"unit_size_medium_risk_loc\", \"unit_size_medium_risk_count\",\n",
    "      \"unit_size_high_risk_loc\", \"unit_size_high_risk_count\", \"unit_size_very_high_risk_loc\",\n",
    "      \"unit_size_very_high_risk_count\", \"conditional_complexity_negligible_risk_loc\",\n",
    "      \"conditional_complexity_negligible_risk_count\", \"conditional_complexity_low_risk_loc\",\n",
    "      \"conditional_complexity_low_risk_count\", \"conditional_complexity_medium_risk_loc\",\n",
    "      \"conditional_complexity_medium_risk_count\", \"conditional_complexity_high_risk_loc\",\n",
    "      \"conditional_complexity_high_risk_count\", \"conditional_complexity_very_high_risk_loc\",\n",
    "      \"conditional_complexity_very_high_risk_count\", \"conditional_complexity_high_plus_risk_count\",\n",
    "      \"conditional_complexity_high_plus_risk_loc\", \"number_of_contributors\",\n",
    "      \"duplication_number_of_duplicates\", \"duplication_number_of_files_with_duplicates\",\n",
    "      \"duplication_number_of_duplicated_lines\", \"duplication_percentage\", \"unit_duplicates_count\", \"releases\"\n",
    "  ]\n",
    "\n",
    "  for filename in os.listdir(folder_path):\n",
    "    if filename.endswith(\".csv\"):\n",
    "      file_path = os.path.join(folder_path, filename)\n",
    "\n",
    "      # Load CSV file\n",
    "      df = pd.read_csv(file_path)\n",
    "\n",
    "      # Drop specified columns\n",
    "      df = df.drop(\n",
    "          columns=[col for col in columns_to_drop if col in df.columns], errors='ignore')\n",
    "\n",
    "      key = os.path.splitext(filename)[0]\n",
    "      cleaned_dataframes[key] = df\n",
    "\n",
    "  return cleaned_dataframes\n",
    "\n",
    "folder_path = \"scraper-output\"\n",
    "cleaned_data = clean_csv_files(folder_path)\n"
   ]
  },
  {
   "cell_type": "code",
   "execution_count": null,
   "metadata": {},
   "outputs": [],
   "source": []
  }
 ],
 "metadata": {
  "kernelspec": {
   "display_name": "Python 3",
   "language": "python",
   "name": "python3"
  },
  "language_info": {
   "codemirror_mode": {
    "name": "ipython",
    "version": 3
   },
   "file_extension": ".py",
   "mimetype": "text/x-python",
   "name": "python",
   "nbconvert_exporter": "python",
   "pygments_lexer": "ipython3",
   "version": "3.9.6"
  }
 },
 "nbformat": 4,
 "nbformat_minor": 2
}
