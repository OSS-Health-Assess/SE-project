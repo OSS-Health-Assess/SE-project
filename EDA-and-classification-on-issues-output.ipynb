{
  "nbformat": 4,
  "nbformat_minor": 0,
  "metadata": {
    "colab": {
      "provenance": []
    },
    "kernelspec": {
      "name": "python3",
      "display_name": "Python 3"
    },
    "language_info": {
      "name": "python"
    },
    "widgets": {
      "application/vnd.jupyter.widget-state+json": {
        "2025de6fc1af40d69d1f8ddf708e4177": {
          "model_module": "@jupyter-widgets/controls",
          "model_name": "HBoxModel",
          "model_module_version": "1.5.0",
          "state": {
            "_dom_classes": [],
            "_model_module": "@jupyter-widgets/controls",
            "_model_module_version": "1.5.0",
            "_model_name": "HBoxModel",
            "_view_count": null,
            "_view_module": "@jupyter-widgets/controls",
            "_view_module_version": "1.5.0",
            "_view_name": "HBoxView",
            "box_style": "",
            "children": [
              "IPY_MODEL_72976ac645584717a84a5288ba464a41",
              "IPY_MODEL_d0de58fe012f4247877872843566b5fc",
              "IPY_MODEL_2beb62267e144447afe25114f3b29563"
            ],
            "layout": "IPY_MODEL_5e926331b66a434fb93f27a201748a09"
          }
        },
        "72976ac645584717a84a5288ba464a41": {
          "model_module": "@jupyter-widgets/controls",
          "model_name": "HTMLModel",
          "model_module_version": "1.5.0",
          "state": {
            "_dom_classes": [],
            "_model_module": "@jupyter-widgets/controls",
            "_model_module_version": "1.5.0",
            "_model_name": "HTMLModel",
            "_view_count": null,
            "_view_module": "@jupyter-widgets/controls",
            "_view_module_version": "1.5.0",
            "_view_name": "HTMLView",
            "description": "",
            "description_tooltip": null,
            "layout": "IPY_MODEL_1a4cfddee2ba4e6d90ed53beac0770cb",
            "placeholder": "​",
            "style": "IPY_MODEL_6d06f3db647d41f79c7bf0770a13c10c",
            "value": "Best trial: 2. Best value: 0.745017: 100%"
          }
        },
        "d0de58fe012f4247877872843566b5fc": {
          "model_module": "@jupyter-widgets/controls",
          "model_name": "FloatProgressModel",
          "model_module_version": "1.5.0",
          "state": {
            "_dom_classes": [],
            "_model_module": "@jupyter-widgets/controls",
            "_model_module_version": "1.5.0",
            "_model_name": "FloatProgressModel",
            "_view_count": null,
            "_view_module": "@jupyter-widgets/controls",
            "_view_module_version": "1.5.0",
            "_view_name": "ProgressView",
            "bar_style": "success",
            "description": "",
            "description_tooltip": null,
            "layout": "IPY_MODEL_bbca9c923a534b61a385fb4a0bb201d4",
            "max": 10,
            "min": 0,
            "orientation": "horizontal",
            "style": "IPY_MODEL_b377d6afab71445bbcba145f1e6507de",
            "value": 10
          }
        },
        "2beb62267e144447afe25114f3b29563": {
          "model_module": "@jupyter-widgets/controls",
          "model_name": "HTMLModel",
          "model_module_version": "1.5.0",
          "state": {
            "_dom_classes": [],
            "_model_module": "@jupyter-widgets/controls",
            "_model_module_version": "1.5.0",
            "_model_name": "HTMLModel",
            "_view_count": null,
            "_view_module": "@jupyter-widgets/controls",
            "_view_module_version": "1.5.0",
            "_view_name": "HTMLView",
            "description": "",
            "description_tooltip": null,
            "layout": "IPY_MODEL_d0544fd9f91e4c97ba1e593a7b191038",
            "placeholder": "​",
            "style": "IPY_MODEL_fbff9dbd9495412eaf576a6a916ef1f4",
            "value": " 10/10 [1:10:39&lt;00:00, 448.24s/it]"
          }
        },
        "5e926331b66a434fb93f27a201748a09": {
          "model_module": "@jupyter-widgets/base",
          "model_name": "LayoutModel",
          "model_module_version": "1.2.0",
          "state": {
            "_model_module": "@jupyter-widgets/base",
            "_model_module_version": "1.2.0",
            "_model_name": "LayoutModel",
            "_view_count": null,
            "_view_module": "@jupyter-widgets/base",
            "_view_module_version": "1.2.0",
            "_view_name": "LayoutView",
            "align_content": null,
            "align_items": null,
            "align_self": null,
            "border": null,
            "bottom": null,
            "display": null,
            "flex": null,
            "flex_flow": null,
            "grid_area": null,
            "grid_auto_columns": null,
            "grid_auto_flow": null,
            "grid_auto_rows": null,
            "grid_column": null,
            "grid_gap": null,
            "grid_row": null,
            "grid_template_areas": null,
            "grid_template_columns": null,
            "grid_template_rows": null,
            "height": null,
            "justify_content": null,
            "justify_items": null,
            "left": null,
            "margin": null,
            "max_height": null,
            "max_width": null,
            "min_height": null,
            "min_width": null,
            "object_fit": null,
            "object_position": null,
            "order": null,
            "overflow": null,
            "overflow_x": null,
            "overflow_y": null,
            "padding": null,
            "right": null,
            "top": null,
            "visibility": null,
            "width": null
          }
        },
        "1a4cfddee2ba4e6d90ed53beac0770cb": {
          "model_module": "@jupyter-widgets/base",
          "model_name": "LayoutModel",
          "model_module_version": "1.2.0",
          "state": {
            "_model_module": "@jupyter-widgets/base",
            "_model_module_version": "1.2.0",
            "_model_name": "LayoutModel",
            "_view_count": null,
            "_view_module": "@jupyter-widgets/base",
            "_view_module_version": "1.2.0",
            "_view_name": "LayoutView",
            "align_content": null,
            "align_items": null,
            "align_self": null,
            "border": null,
            "bottom": null,
            "display": null,
            "flex": null,
            "flex_flow": null,
            "grid_area": null,
            "grid_auto_columns": null,
            "grid_auto_flow": null,
            "grid_auto_rows": null,
            "grid_column": null,
            "grid_gap": null,
            "grid_row": null,
            "grid_template_areas": null,
            "grid_template_columns": null,
            "grid_template_rows": null,
            "height": null,
            "justify_content": null,
            "justify_items": null,
            "left": null,
            "margin": null,
            "max_height": null,
            "max_width": null,
            "min_height": null,
            "min_width": null,
            "object_fit": null,
            "object_position": null,
            "order": null,
            "overflow": null,
            "overflow_x": null,
            "overflow_y": null,
            "padding": null,
            "right": null,
            "top": null,
            "visibility": null,
            "width": null
          }
        },
        "6d06f3db647d41f79c7bf0770a13c10c": {
          "model_module": "@jupyter-widgets/controls",
          "model_name": "DescriptionStyleModel",
          "model_module_version": "1.5.0",
          "state": {
            "_model_module": "@jupyter-widgets/controls",
            "_model_module_version": "1.5.0",
            "_model_name": "DescriptionStyleModel",
            "_view_count": null,
            "_view_module": "@jupyter-widgets/base",
            "_view_module_version": "1.2.0",
            "_view_name": "StyleView",
            "description_width": ""
          }
        },
        "bbca9c923a534b61a385fb4a0bb201d4": {
          "model_module": "@jupyter-widgets/base",
          "model_name": "LayoutModel",
          "model_module_version": "1.2.0",
          "state": {
            "_model_module": "@jupyter-widgets/base",
            "_model_module_version": "1.2.0",
            "_model_name": "LayoutModel",
            "_view_count": null,
            "_view_module": "@jupyter-widgets/base",
            "_view_module_version": "1.2.0",
            "_view_name": "LayoutView",
            "align_content": null,
            "align_items": null,
            "align_self": null,
            "border": null,
            "bottom": null,
            "display": null,
            "flex": null,
            "flex_flow": null,
            "grid_area": null,
            "grid_auto_columns": null,
            "grid_auto_flow": null,
            "grid_auto_rows": null,
            "grid_column": null,
            "grid_gap": null,
            "grid_row": null,
            "grid_template_areas": null,
            "grid_template_columns": null,
            "grid_template_rows": null,
            "height": null,
            "justify_content": null,
            "justify_items": null,
            "left": null,
            "margin": null,
            "max_height": null,
            "max_width": null,
            "min_height": null,
            "min_width": null,
            "object_fit": null,
            "object_position": null,
            "order": null,
            "overflow": null,
            "overflow_x": null,
            "overflow_y": null,
            "padding": null,
            "right": null,
            "top": null,
            "visibility": null,
            "width": null
          }
        },
        "b377d6afab71445bbcba145f1e6507de": {
          "model_module": "@jupyter-widgets/controls",
          "model_name": "ProgressStyleModel",
          "model_module_version": "1.5.0",
          "state": {
            "_model_module": "@jupyter-widgets/controls",
            "_model_module_version": "1.5.0",
            "_model_name": "ProgressStyleModel",
            "_view_count": null,
            "_view_module": "@jupyter-widgets/base",
            "_view_module_version": "1.2.0",
            "_view_name": "StyleView",
            "bar_color": null,
            "description_width": ""
          }
        },
        "d0544fd9f91e4c97ba1e593a7b191038": {
          "model_module": "@jupyter-widgets/base",
          "model_name": "LayoutModel",
          "model_module_version": "1.2.0",
          "state": {
            "_model_module": "@jupyter-widgets/base",
            "_model_module_version": "1.2.0",
            "_model_name": "LayoutModel",
            "_view_count": null,
            "_view_module": "@jupyter-widgets/base",
            "_view_module_version": "1.2.0",
            "_view_name": "LayoutView",
            "align_content": null,
            "align_items": null,
            "align_self": null,
            "border": null,
            "bottom": null,
            "display": null,
            "flex": null,
            "flex_flow": null,
            "grid_area": null,
            "grid_auto_columns": null,
            "grid_auto_flow": null,
            "grid_auto_rows": null,
            "grid_column": null,
            "grid_gap": null,
            "grid_row": null,
            "grid_template_areas": null,
            "grid_template_columns": null,
            "grid_template_rows": null,
            "height": null,
            "justify_content": null,
            "justify_items": null,
            "left": null,
            "margin": null,
            "max_height": null,
            "max_width": null,
            "min_height": null,
            "min_width": null,
            "object_fit": null,
            "object_position": null,
            "order": null,
            "overflow": null,
            "overflow_x": null,
            "overflow_y": null,
            "padding": null,
            "right": null,
            "top": null,
            "visibility": null,
            "width": null
          }
        },
        "fbff9dbd9495412eaf576a6a916ef1f4": {
          "model_module": "@jupyter-widgets/controls",
          "model_name": "DescriptionStyleModel",
          "model_module_version": "1.5.0",
          "state": {
            "_model_module": "@jupyter-widgets/controls",
            "_model_module_version": "1.5.0",
            "_model_name": "DescriptionStyleModel",
            "_view_count": null,
            "_view_module": "@jupyter-widgets/base",
            "_view_module_version": "1.2.0",
            "_view_name": "StyleView",
            "description_width": ""
          }
        }
      }
    }
  },
  "cells": [
    {
      "cell_type": "markdown",
      "source": [
        "# **Data Cleaning and Pre-processing**"
      ],
      "metadata": {
        "id": "imAe_MzW7tQZ"
      }
    },
    {
      "cell_type": "code",
      "source": [
        "import os\n",
        "import pandas as pd\n",
        "import numpy as np\n",
        "\n",
        "def clean_csv_files(input_folder, output_folder, project_status_file):\n",
        "    os.makedirs(output_folder, exist_ok=True)\n",
        "\n",
        "    ps_df = pd.read_csv(project_status_file, keep_default_na=False, na_values=[], low_memory=False)\n",
        "\n",
        "    columns_to_drop = [\n",
        "        'issue_url', 'comment_url', 'id', 'issue_num',\n",
        "        'title', 'user_login', 'user_id', 'user_name',\n",
        "        'user_email', 'body', 'reactions'\n",
        "    ]\n",
        "\n",
        "    for filename in os.listdir(input_folder):\n",
        "        if filename.endswith(\".csv\"):\n",
        "            file_path = os.path.join(input_folder, filename)\n",
        "\n",
        "            df = pd.read_csv(file_path, keep_default_na=False, na_values=[], low_memory=False)\n",
        "\n",
        "            df = df.drop(columns=[col for col in columns_to_drop if col in df.columns], errors='ignore')\n",
        "\n",
        "            # Convert created_at and updated_at to date format (YYYY-MM-DD) if they exist\n",
        "            if 'created_at' in df.columns:\n",
        "                df['created_at'] = pd.to_datetime(df['created_at'], errors='coerce').dt.date\n",
        "            if 'updated_at' in df.columns:\n",
        "                df['updated_at'] = pd.to_datetime(df['updated_at'], errors='coerce').dt.date\n",
        "\n",
        "            # Compute the difference in days between updated_at and created_at, including the end date.\n",
        "            if 'created_at' in df.columns and 'updated_at' in df.columns:\n",
        "                df['days_elapsed'] = (df['updated_at'] - df['created_at']).apply(\n",
        "                    lambda x: x.days + 1 if pd.notnull(x) else np.nan\n",
        "                )\n",
        "\n",
        "            # Replace blank or whitespace-only cells in all columns with np.nan\n",
        "            df = df.replace(r'^\\s*$', np.nan, regex=True)\n",
        "\n",
        "            # For numeric columns, fill missing values with 0 and for non-numeric columns, leave the missing as np.nan.\n",
        "            for col in df.columns:\n",
        "                if pd.api.types.is_numeric_dtype(df[col]):\n",
        "                    df[col] = df[col].fillna(0)\n",
        "                else:\n",
        "                    df[col] = df[col].fillna(np.nan)\n",
        "\n",
        "            # Merge with project-status data:\n",
        "            if 'repo_name' in df.columns:\n",
        "                df = df.merge(ps_df[['project', 'status']], how='left', left_on='repo_name', right_on='project')\n",
        "                # Drop the extra 'project' column coming from the merge\n",
        "                df = df.drop(columns=['project'])\n",
        "\n",
        "            # Save the cleaned DataFrame to a new CSV file\n",
        "            output_file = os.path.join(output_folder, filename)\n",
        "            df.to_csv(output_file, index=False)\n",
        "            # print(f\"Processed {filename} and saved to {output_file}\")\n",
        "\n",
        "input_folder = \"issues-output\"\n",
        "output_folder = \"issues-cleanedData\"\n",
        "project_status_file = \"project-status.csv\"\n",
        "clean_csv_files(input_folder, output_folder, project_status_file)\n"
      ],
      "metadata": {
        "id": "EEyAsXsW7giW"
      },
      "execution_count": 3,
      "outputs": []
    },
    {
      "cell_type": "markdown",
      "source": [
        "## **EDA Analysis on the Issues Data**"
      ],
      "metadata": {
        "id": "8CpIIa617wHX"
      }
    },
    {
      "cell_type": "code",
      "source": [
        "import os\n",
        "import pandas as pd\n",
        "import matplotlib.pyplot as plt\n",
        "import numpy as np\n",
        "\n",
        "def load_cleaned_data(folder):\n",
        "    \"\"\"Load all CSV files from the given folder and concatenate them into one DataFrame.\"\"\"\n",
        "    all_dfs = []\n",
        "    for filename in os.listdir(folder):\n",
        "        if filename.endswith(\".csv\"):\n",
        "            file_path = os.path.join(folder, filename)\n",
        "            df = pd.read_csv(file_path)\n",
        "            all_dfs.append(df)\n",
        "    if all_dfs:\n",
        "        return pd.concat(all_dfs, ignore_index=True)\n",
        "    else:\n",
        "        return pd.DataFrame()\n",
        "\n",
        "cleaned_folder = \"issues-cleanedData\"\n",
        "df = load_cleaned_data(cleaned_folder)\n",
        "\n",
        "\n",
        "# Plot 1: Count of Issues and Comments by Status\n",
        "\n",
        "if \"status\" in df.columns and \"type\" in df.columns:\n",
        "    # Group by status and type\n",
        "    grouped_type = df.groupby([\"status\", \"type\"]).size().reset_index(name=\"count\")\n",
        "    pivot_type = grouped_type.pivot(index=\"status\", columns=\"type\", values=\"count\").fillna(0)\n",
        "\n",
        "    plt.figure(figsize=(8,6))\n",
        "    pivot_type.plot(kind=\"bar\", ax=plt.gca())\n",
        "    plt.title(\"Total Issue and Comment Counts by Project Status\")\n",
        "    plt.xlabel(\"Project Status\")\n",
        "    plt.ylabel(\"Count\")\n",
        "    plt.xticks(rotation=0)\n",
        "    plt.legend(title=\"Type\")\n",
        "    plt.tight_layout()\n",
        "    plt.show()\n",
        "else:\n",
        "    print(\"Columns 'status' and/or 'type' not found in the data for Plot 1.\")\n",
        "\n",
        "# Plot 2: Issue State Counts (Open, Closed, NA) by Status\n",
        "\n",
        "if \"status\" in df.columns and \"issue_state\" in df.columns:\n",
        "    df[\"issue_state_group\"] = df[\"issue_state\"].fillna(\"NA\")\n",
        "    grouped_state = df.groupby([\"status\", \"issue_state_group\"]).size().reset_index(name=\"count\")\n",
        "    pivot_state = grouped_state.pivot(index=\"status\", columns=\"issue_state_group\", values=\"count\").fillna(0)\n",
        "\n",
        "    plt.figure(figsize=(8,6))\n",
        "    pivot_state.plot(kind=\"bar\", ax=plt.gca())\n",
        "    plt.title(\"Issue State Counts by Project Status\")\n",
        "    plt.xlabel(\"Project Status\")\n",
        "    plt.ylabel(\"Count\")\n",
        "    plt.xticks(rotation=0)\n",
        "    plt.legend(title=\"Issue State\")\n",
        "    plt.tight_layout()\n",
        "    plt.show()\n",
        "else:\n",
        "    print(\"Columns 'status' and/or 'issue_state' not found in the data for Plot 2.\")\n"
      ],
      "metadata": {
        "colab": {
          "base_uri": "https://localhost:8080/",
          "height": 1000
        },
        "id": "QkJNaZX67gV8",
        "outputId": "90f8459c-e8b1-4d31-f8c7-b9f5b3aa6f14"
      },
      "execution_count": 4,
      "outputs": [
        {
          "output_type": "display_data",
          "data": {
            "text/plain": [
              "<Figure size 800x600 with 1 Axes>"
            ],
            "image/png": "[encoded data removed]"
          },
          "metadata": {}
        },
        {
          "output_type": "display_data",
          "data": {
            "text/plain": [
              "<Figure size 800x600 with 1 Axes>"
            ],
            "image/png": "[encoded data removed]"
          },
          "metadata": {}
        }
      ]
    },
    {
      "cell_type": "markdown",
      "source": [
        "# **LSTM Model for Classifying projects as Graduated/ Retired based on Issues Data**"
      ],
      "metadata": {
        "id": "ew_MKPUG7hKI"
      }
    },
    {
      "cell_type": "code",
      "execution_count": null,
      "metadata": {
        "colab": {
          "base_uri": "https://localhost:8080/",
          "height": 1000
        },
        "id": "q6JVPJ9f1v02",
        "outputId": "0e3260a1-a30b-46df-8a0a-2204d9355884"
      },
      "outputs": [
        {
          "output_type": "stream",
          "name": "stdout",
          "text": [
            "Processed Data Summary:\n",
            "Number of sequences: 88\n",
            "Shape of padded sequences (X): (88, 15520, 3)\n",
            "Labels (y): [1 0 1 1 1 0 1 1 1 1 1 1 0 1 1 0 1 0 0 0 1 1 1 1 1 0 0 1 1 1 1 1 0 0 0 1 1\n",
            " 1 1 0 1 1 0 1 1 1 0 1 1 1 0 1 0 1 1 1 1 0 1 1 0 1 0 0 1 1 0 0 1 1 1 0 0 1\n",
            " 1 1 0 0 1 0 0 0 1 1 1 1 1 1]\n",
            "Train shape: (61, 15520, 3) (61,)\n",
            "Validation shape: (9, 15520, 3) (9,)\n",
            "Test shape: (18, 15520, 3) (18,)\n"
          ]
        },
        {
          "output_type": "stream",
          "name": "stderr",
          "text": [
            "/usr/local/lib/python3.11/dist-packages/keras/src/layers/core/masking.py:47: UserWarning: Do not pass an `input_shape`/`input_dim` argument to a layer. When using Sequential models, prefer using an `Input(shape)` object as the first layer in the model instead.\n",
            "  super().__init__(**kwargs)\n"
          ]
        },
        {
          "output_type": "display_data",
          "data": {
            "text/plain": [
              "\u001b[1mModel: \"sequential\"\u001b[0m\n"
            ],
            "text/html": [
              "<pre style=\"white-space:pre;overflow-x:auto;line-height:normal;font-family:Menlo,'DejaVu Sans Mono',consolas,'Courier New',monospace\"><span style=\"font-weight: bold\">Model: \"sequential\"</span>\n",
              "</pre>\n"
            ]
          },
          "metadata": {}
        },
        {
          "output_type": "display_data",
          "data": {
            "text/plain": [
              "┏━━━━━━━━━━━━━━━━━━━━━━━━━━━━━━━━━━━━━━┳━━━━━━━━━━━━━━━━━━━━━━━━━━━━━┳━━━━━━━━━━━━━━━━━┓\n",
              "┃\u001b[1m \u001b[0m\u001b[1mLayer (type)                        \u001b[0m\u001b[1m \u001b[0m┃\u001b[1m \u001b[0m\u001b[1mOutput Shape               \u001b[0m\u001b[1m \u001b[0m┃\u001b[1m \u001b[0m\u001b[1m        Param #\u001b[0m\u001b[1m \u001b[0m┃\n",
              "┡━━━━━━━━━━━━━━━━━━━━━━━━━━━━━━━━━━━━━━╇━━━━━━━━━━━━━━━━━━━━━━━━━━━━━╇━━━━━━━━━━━━━━━━━┩\n",
              "│ masking (\u001b[38;5;33mMasking\u001b[0m)                    │ (\u001b[38;5;45mNone\u001b[0m, \u001b[38;5;34m15520\u001b[0m, \u001b[38;5;34m3\u001b[0m)            │               \u001b[38;5;34m0\u001b[0m │\n",
              "├──────────────────────────────────────┼─────────────────────────────┼─────────────────┤\n",
              "│ lstm (\u001b[38;5;33mLSTM\u001b[0m)                          │ (\u001b[38;5;45mNone\u001b[0m, \u001b[38;5;34m15520\u001b[0m, \u001b[38;5;34m128\u001b[0m)          │          \u001b[38;5;34m67,584\u001b[0m │\n",
              "├──────────────────────────────────────┼─────────────────────────────┼─────────────────┤\n",
              "│ lstm_1 (\u001b[38;5;33mLSTM\u001b[0m)                        │ (\u001b[38;5;45mNone\u001b[0m, \u001b[38;5;34m64\u001b[0m)                  │          \u001b[38;5;34m49,408\u001b[0m │\n",
              "├──────────────────────────────────────┼─────────────────────────────┼─────────────────┤\n",
              "│ dense (\u001b[38;5;33mDense\u001b[0m)                        │ (\u001b[38;5;45mNone\u001b[0m, \u001b[38;5;34m1\u001b[0m)                   │              \u001b[38;5;34m65\u001b[0m │\n",
              "└──────────────────────────────────────┴─────────────────────────────┴─────────────────┘\n"
            ],
            "text/html": [
              "<pre style=\"white-space:pre;overflow-x:auto;line-height:normal;font-family:Menlo,'DejaVu Sans Mono',consolas,'Courier New',monospace\">┏━━━━━━━━━━━━━━━━━━━━━━━━━━━━━━━━━━━━━━┳━━━━━━━━━━━━━━━━━━━━━━━━━━━━━┳━━━━━━━━━━━━━━━━━┓\n",
              "┃<span style=\"font-weight: bold\"> Layer (type)                         </span>┃<span style=\"font-weight: bold\"> Output Shape                </span>┃<span style=\"font-weight: bold\">         Param # </span>┃\n",
              "┡━━━━━━━━━━━━━━━━━━━━━━━━━━━━━━━━━━━━━━╇━━━━━━━━━━━━━━━━━━━━━━━━━━━━━╇━━━━━━━━━━━━━━━━━┩\n",
              "│ masking (<span style=\"color: #0087ff; text-decoration-color: #0087ff\">Masking</span>)                    │ (<span style=\"color: #00d7ff; text-decoration-color: #00d7ff\">None</span>, <span style=\"color: #00af00; text-decoration-color: #00af00\">15520</span>, <span style=\"color: #00af00; text-decoration-color: #00af00\">3</span>)            │               <span style=\"color: #00af00; text-decoration-color: #00af00\">0</span> │\n",
              "├──────────────────────────────────────┼─────────────────────────────┼─────────────────┤\n",
              "│ lstm (<span style=\"color: #0087ff; text-decoration-color: #0087ff\">LSTM</span>)                          │ (<span style=\"color: #00d7ff; text-decoration-color: #00d7ff\">None</span>, <span style=\"color: #00af00; text-decoration-color: #00af00\">15520</span>, <span style=\"color: #00af00; text-decoration-color: #00af00\">128</span>)          │          <span style=\"color: #00af00; text-decoration-color: #00af00\">67,584</span> │\n",
              "├──────────────────────────────────────┼─────────────────────────────┼─────────────────┤\n",
              "│ lstm_1 (<span style=\"color: #0087ff; text-decoration-color: #0087ff\">LSTM</span>)                        │ (<span style=\"color: #00d7ff; text-decoration-color: #00d7ff\">None</span>, <span style=\"color: #00af00; text-decoration-color: #00af00\">64</span>)                  │          <span style=\"color: #00af00; text-decoration-color: #00af00\">49,408</span> │\n",
              "├──────────────────────────────────────┼─────────────────────────────┼─────────────────┤\n",
              "│ dense (<span style=\"color: #0087ff; text-decoration-color: #0087ff\">Dense</span>)                        │ (<span style=\"color: #00d7ff; text-decoration-color: #00d7ff\">None</span>, <span style=\"color: #00af00; text-decoration-color: #00af00\">1</span>)                   │              <span style=\"color: #00af00; text-decoration-color: #00af00\">65</span> │\n",
              "└──────────────────────────────────────┴─────────────────────────────┴─────────────────┘\n",
              "</pre>\n"
            ]
          },
          "metadata": {}
        },
        {
          "output_type": "display_data",
          "data": {
            "text/plain": [
              "\u001b[1m Total params: \u001b[0m\u001b[38;5;34m117,057\u001b[0m (457.25 KB)\n"
            ],
            "text/html": [
              "<pre style=\"white-space:pre;overflow-x:auto;line-height:normal;font-family:Menlo,'DejaVu Sans Mono',consolas,'Courier New',monospace\"><span style=\"font-weight: bold\"> Total params: </span><span style=\"color: #00af00; text-decoration-color: #00af00\">117,057</span> (457.25 KB)\n",
              "</pre>\n"
            ]
          },
          "metadata": {}
        },
        {
          "output_type": "display_data",
          "data": {
            "text/plain": [
              "\u001b[1m Trainable params: \u001b[0m\u001b[38;5;34m117,057\u001b[0m (457.25 KB)\n"
            ],
            "text/html": [
              "<pre style=\"white-space:pre;overflow-x:auto;line-height:normal;font-family:Menlo,'DejaVu Sans Mono',consolas,'Courier New',monospace\"><span style=\"font-weight: bold\"> Trainable params: </span><span style=\"color: #00af00; text-decoration-color: #00af00\">117,057</span> (457.25 KB)\n",
              "</pre>\n"
            ]
          },
          "metadata": {}
        },
        {
          "output_type": "display_data",
          "data": {
            "text/plain": [
              "\u001b[1m Non-trainable params: \u001b[0m\u001b[38;5;34m0\u001b[0m (0.00 B)\n"
            ],
            "text/html": [
              "<pre style=\"white-space:pre;overflow-x:auto;line-height:normal;font-family:Menlo,'DejaVu Sans Mono',consolas,'Courier New',monospace\"><span style=\"font-weight: bold\"> Non-trainable params: </span><span style=\"color: #00af00; text-decoration-color: #00af00\">0</span> (0.00 B)\n",
              "</pre>\n"
            ]
          },
          "metadata": {}
        },
        {
          "output_type": "stream",
          "name": "stdout",
          "text": [
            "Epoch 1/10\n",
            "\u001b[1m4/4\u001b[0m \u001b[32m━━━━━━━━━━━━━━━━━━━━\u001b[0m\u001b[37m\u001b[0m \u001b[1m234s\u001b[0m 57s/step - accuracy: 0.3338 - loss: 1.8223 - val_accuracy: 0.7778 - val_loss: 0.5312\n",
            "Epoch 2/10\n",
            "\u001b[1m4/4\u001b[0m \u001b[32m━━━━━━━━━━━━━━━━━━━━\u001b[0m\u001b[37m\u001b[0m \u001b[1m251s\u001b[0m 54s/step - accuracy: 0.6290 - loss: 0.7248 - val_accuracy: 0.7778 - val_loss: 0.5625\n",
            "Epoch 3/10\n",
            "\u001b[1m4/4\u001b[0m \u001b[32m━━━━━━━━━━━━━━━━━━━━\u001b[0m\u001b[37m\u001b[0m \u001b[1m217s\u001b[0m 54s/step - accuracy: 0.5617 - loss: 0.7581 - val_accuracy: 0.7778 - val_loss: 0.6396\n",
            "Epoch 4/10\n",
            "\u001b[1m4/4\u001b[0m \u001b[32m━━━━━━━━━━━━━━━━━━━━\u001b[0m\u001b[37m\u001b[0m \u001b[1m274s\u001b[0m 58s/step - accuracy: 0.5787 - loss: 0.7156 - val_accuracy: 0.7778 - val_loss: 0.6200\n",
            "Epoch 5/10\n",
            "\u001b[1m4/4\u001b[0m \u001b[32m━━━━━━━━━━━━━━━━━━━━\u001b[0m\u001b[37m\u001b[0m \u001b[1m252s\u001b[0m 56s/step - accuracy: 0.6203 - loss: 0.6736 - val_accuracy: 0.7778 - val_loss: 0.5858\n",
            "Epoch 6/10\n",
            "\u001b[1m4/4\u001b[0m \u001b[32m━━━━━━━━━━━━━━━━━━━━\u001b[0m\u001b[37m\u001b[0m \u001b[1m261s\u001b[0m 55s/step - accuracy: 0.6647 - loss: 0.6270 - val_accuracy: 0.7778 - val_loss: 0.5729\n",
            "Epoch 7/10\n",
            "\u001b[1m4/4\u001b[0m \u001b[32m━━━━━━━━━━━━━━━━━━━━\u001b[0m\u001b[37m\u001b[0m \u001b[1m219s\u001b[0m 55s/step - accuracy: 0.6477 - loss: 0.6630 - val_accuracy: 0.7778 - val_loss: 0.5773\n",
            "Epoch 8/10\n",
            "\u001b[1m4/4\u001b[0m \u001b[32m━━━━━━━━━━━━━━━━━━━━\u001b[0m\u001b[37m\u001b[0m \u001b[1m218s\u001b[0m 54s/step - accuracy: 0.6668 - loss: 0.6281 - val_accuracy: 0.7778 - val_loss: 0.5930\n",
            "Epoch 9/10\n",
            "\u001b[1m4/4\u001b[0m \u001b[32m━━━━━━━━━━━━━━━━━━━━\u001b[0m\u001b[37m\u001b[0m \u001b[1m263s\u001b[0m 55s/step - accuracy: 0.6287 - loss: 0.6502 - val_accuracy: 0.7778 - val_loss: 0.5945\n",
            "Epoch 10/10\n",
            "\u001b[1m4/4\u001b[0m \u001b[32m━━━━━━━━━━━━━━━━━━━━\u001b[0m\u001b[37m\u001b[0m \u001b[1m262s\u001b[0m 55s/step - accuracy: 0.6790 - loss: 0.6140 - val_accuracy: 0.7778 - val_loss: 0.5853\n",
            "\u001b[1m1/1\u001b[0m \u001b[32m━━━━━━━━━━━━━━━━━━━━\u001b[0m\u001b[37m\u001b[0m \u001b[1m5s\u001b[0m 5s/step\n",
            "Confusion Matrix:\n",
            "[[ 2  4]\n",
            " [ 1 11]]\n",
            "\n",
            "Classification Report:\n",
            "              precision    recall  f1-score   support\n",
            "\n",
            "           0       0.67      0.33      0.44         6\n",
            "           1       0.73      0.92      0.81        12\n",
            "\n",
            "    accuracy                           0.72        18\n",
            "   macro avg       0.70      0.62      0.63        18\n",
            "weighted avg       0.71      0.72      0.69        18\n",
            "\n"
          ]
        }
      ],
      "source": [
        "import os\n",
        "import sys\n",
        "import pandas as pd\n",
        "import numpy as np\n",
        "from tensorflow.keras.models import Sequential\n",
        "from tensorflow.keras.layers import LSTM, Dense, Masking\n",
        "from tensorflow.keras.optimizers import Adam\n",
        "from tensorflow.keras.preprocessing.sequence import pad_sequences\n",
        "from tensorflow.keras.regularizers import l2\n",
        "from sklearn.model_selection import train_test_split\n",
        "from sklearn.metrics import confusion_matrix, classification_report\n",
        "\n",
        "# ---------------------------\n",
        "# Hyperparameters\n",
        "# ---------------------------\n",
        "epochs = 10              # Number of epochs for training\n",
        "batch_size = 16          # Batch size for training\n",
        "learning_rate = 0.001    # Learning rate for Adam optimizer\n",
        "weight_decay = 1e-4      # L2 regularization factor\n",
        "\n",
        "# LSTM-specific hyperparameters:\n",
        "lstm_units_layer1 = 128  # Units in first LSTM layer\n",
        "lstm_units_layer2 = 64   # Units in second LSTM layer\n",
        "dropout_rate = 0.02       # Dropout rate (and recurrent dropout) for LSTM layers\n",
        "\n",
        "# ---------------------------\n",
        "# Data Preparation\n",
        "# ---------------------------\n",
        "input_dir = \"issues-cleanedData\"  # Directory with cleaned CSV files\n",
        "\n",
        "# Lists to hold each repository's sequence and label\n",
        "sequences = []\n",
        "labels = []\n",
        "\n",
        "# Determine union of all categories for the 'issue_state' column across all files\n",
        "issue_state_categories = set()\n",
        "for filename in os.listdir(input_dir):\n",
        "    if filename.endswith(\".csv\"):\n",
        "        file_path = os.path.join(input_dir, filename)\n",
        "        try:\n",
        "            df = pd.read_csv(file_path)\n",
        "        except Exception as e:\n",
        "            print(f\"Error reading {filename}: {e}\")\n",
        "            continue\n",
        "        # Remove rows where 'type' equals \"comment\"\n",
        "        if 'type' in df.columns:\n",
        "            df = df[df['type'] != 'comment']\n",
        "        if 'issue_state' in df.columns:\n",
        "            unique_states = df['issue_state'].dropna().unique()\n",
        "            issue_state_categories.update(unique_states)\n",
        "issue_state_categories = sorted(list(issue_state_categories))\n",
        "\n",
        "# Mapping for target labels: \"graduated\" is 1 and \"retired\" is 0\n",
        "label_map = {\"graduated\": 1, \"retired\": 0}\n",
        "\n",
        "# Process each CSV file (each representing one repository/sequence)\n",
        "for filename in os.listdir(input_dir):\n",
        "    if filename.endswith(\".csv\"):\n",
        "        file_path = os.path.join(input_dir, filename)\n",
        "        try:\n",
        "            df = pd.read_csv(file_path)\n",
        "        except Exception as e:\n",
        "            print(f\"Error reading {filename}: {e}\")\n",
        "            continue\n",
        "\n",
        "        # Filter out rows where 'type' equals \"comment\"\n",
        "        if 'type' in df.columns:\n",
        "            df = df[df['type'] != 'comment']\n",
        "\n",
        "        # Ensure the required columns exist\n",
        "        if not all(col in df.columns for col in ['issue_state', 'days_elapsed', 'status']):\n",
        "            print(f\"Skipping {filename}: required columns missing.\")\n",
        "            continue\n",
        "\n",
        "        # Use the first value in the 'status' column as the label (convert to lowercase)\n",
        "        repo_status = df['status'].iloc[0]\n",
        "        repo_status = repo_status.lower() if isinstance(repo_status, str) else repo_status\n",
        "        if repo_status not in label_map:\n",
        "            print(f\"Skipping {filename}: status value '{repo_status}' not in label_map.\")\n",
        "            continue\n",
        "\n",
        "        # One-hot encode 'issue_state' (convert to integers for consistency)\n",
        "        issue_state_dummies = pd.get_dummies(df['issue_state']).astype(int)\n",
        "        issue_state_dummies = issue_state_dummies.reindex(columns=issue_state_categories, fill_value=0)\n",
        "\n",
        "        # Process the 'days_elapsed' column: convert to float and normalize (e.g., divide by 1000)\n",
        "        try:\n",
        "            days_elapsed = (df['days_elapsed'].astype(float).to_frame()) / 1000.0\n",
        "        except Exception as e:\n",
        "            print(f\"Error processing 'days_elapsed' in {filename}: {e}\")\n",
        "            continue\n",
        "\n",
        "        # If available, process an additional feature: 'comments_count'\n",
        "        if 'comments_count' in df.columns:\n",
        "            try:\n",
        "                comments_count = (df['comments_count'].astype(float).to_frame()) / 100.0\n",
        "            except Exception as e:\n",
        "                print(f\"Error processing 'comments_count' in {filename}: {e}\")\n",
        "                # If conversion fails, use a column of zeros\n",
        "                comments_count = pd.DataFrame(np.zeros((df.shape[0], 1)), columns=[\"comments_count\"])\n",
        "            # Combine all features\n",
        "            features = pd.concat([issue_state_dummies, days_elapsed, comments_count], axis=1)\n",
        "        else:\n",
        "            features = pd.concat([issue_state_dummies, days_elapsed], axis=1)\n",
        "\n",
        "        # Fill any missing values in features\n",
        "        features = features.fillna(0)\n",
        "\n",
        "        # Convert the features DataFrame to a NumPy array (each row is a timestep)\n",
        "        seq = features.values\n",
        "        if seq.shape[0] == 0:\n",
        "            print(f\"Skipping {filename}: no valid rows after filtering.\")\n",
        "            continue\n",
        "\n",
        "        sequences.append(seq)\n",
        "        labels.append(label_map[repo_status])\n",
        "\n",
        "# Ensure we have at least one valid sequence\n",
        "if not sequences:\n",
        "    sys.exit(\"Error: No valid sequences found. Check CSV files for required columns and valid status values.\")\n",
        "\n",
        "# ---------------------------\n",
        "# Sequence Padding\n",
        "# ---------------------------\n",
        "# Pad sequences so that they all have the same number of timesteps.\n",
        "# A pad value of -999 is used (chosen to be unlikely to appear in the actual features)\n",
        "max_timesteps = max(seq.shape[0] for seq in sequences)\n",
        "X = pad_sequences(sequences, maxlen=max_timesteps, dtype='float32', padding='post', value=-999.0)\n",
        "y = np.array(labels)\n",
        "\n",
        "# Print summary of processed data\n",
        "print(\"Processed Data Summary:\")\n",
        "print(\"Number of sequences:\", len(sequences))\n",
        "print(\"Shape of padded sequences (X):\", X.shape)\n",
        "print(\"Labels (y):\", y)\n",
        "\n",
        "# ---------------------------\n",
        "# Train / Validation / Test Split (70/10/20)\n",
        "# ---------------------------\n",
        "X_train, X_temp, y_train, y_temp = train_test_split(\n",
        "    X, y, test_size=0.30, stratify=y, random_state=42, shuffle=True\n",
        ")\n",
        "X_val, X_test, y_val, y_test = train_test_split(\n",
        "    X_temp, y_temp, test_size=2/3, stratify=y_temp, random_state=42, shuffle=True\n",
        ")\n",
        "\n",
        "print(\"Train shape:\", X_train.shape, y_train.shape)\n",
        "print(\"Validation shape:\", X_val.shape, y_val.shape)\n",
        "print(\"Test shape:\", X_test.shape, y_test.shape)\n",
        "\n",
        "# ---------------------------\n",
        "# Build the LSTM Model\n",
        "# ---------------------------\n",
        "num_features = X.shape[2]  # Number of features per timestep\n",
        "\n",
        "model = Sequential()\n",
        "# Add a Masking layer so that padded timesteps (value = -999) are ignored\n",
        "model.add(Masking(mask_value=-999.0, input_shape=(max_timesteps, num_features)))\n",
        "\n",
        "# First LSTM layer with 128 units, dropout and recurrent dropout, returning sequences (for stacking)\n",
        "model.add(LSTM(lstm_units_layer1,\n",
        "               dropout=dropout_rate,\n",
        "               return_sequences=True,\n",
        "               kernel_regularizer=l2(weight_decay)))\n",
        "\n",
        "# Second LSTM layer with 64 units, dropout and recurrent dropout (outputs final hidden state)\n",
        "model.add(LSTM(lstm_units_layer2,\n",
        "               dropout=dropout_rate,\n",
        "               kernel_regularizer=l2(weight_decay)))\n",
        "\n",
        "# Final Dense layer for binary classification (graduated vs. retired)\n",
        "model.add(Dense(1, activation='relu', kernel_regularizer=l2(weight_decay)))\n",
        "\n",
        "# Compile the model using Adam optimizer\n",
        "optimizer = Adam(learning_rate=learning_rate)\n",
        "model.compile(optimizer=optimizer, loss='binary_crossentropy', metrics=['accuracy'])\n",
        "\n",
        "model.summary()\n",
        "\n",
        "# ---------------------------\n",
        "# Train the Model\n",
        "# ---------------------------\n",
        "model.fit(X_train, y_train, epochs=epochs, batch_size=batch_size, validation_data=(X_val, y_val))\n",
        "\n",
        "# ---------------------------\n",
        "# Evaluate on Test Set and Print Confusion Matrix\n",
        "# ---------------------------\n",
        "y_pred_prob = model.predict(X_test)\n",
        "y_pred = (y_pred_prob > 0.5).astype(int).reshape(-1)\n",
        "\n",
        "cm = confusion_matrix(y_test, y_pred)\n",
        "cr = classification_report(y_test, y_pred)\n",
        "\n",
        "print(\"Confusion Matrix:\")\n",
        "print(cm)\n",
        "print(\"\\nClassification Report:\")\n",
        "print(cr)\n"
      ]
    },
    {
      "cell_type": "code",
      "source": [
        "pip install optuna"
      ],
      "metadata": {
        "colab": {
          "base_uri": "https://localhost:8080/"
        },
        "id": "SnVN9qlOOwm-",
        "outputId": "4ddf44cd-24ab-4aee-a010-5c9f4d8eacc6"
      },
      "execution_count": null,
      "outputs": [
        {
          "output_type": "stream",
          "name": "stdout",
          "text": [
            "Collecting optuna\n",
            "  Downloading optuna-4.2.1-py3-none-any.whl.metadata (17 kB)\n",
            "Collecting alembic>=1.5.0 (from optuna)\n",
            "  Downloading alembic-1.15.1-py3-none-any.whl.metadata (7.2 kB)\n",
            "Collecting colorlog (from optuna)\n",
            "  Downloading colorlog-6.9.0-py3-none-any.whl.metadata (10 kB)\n",
            "Requirement already satisfied: numpy in /usr/local/lib/python3.11/dist-packages (from optuna) (1.26.4)\n",
            "Requirement already satisfied: packaging>=20.0 in /usr/local/lib/python3.11/dist-packages (from optuna) (24.2)\n",
            "Requirement already satisfied: sqlalchemy>=1.4.2 in /usr/local/lib/python3.11/dist-packages (from optuna) (2.0.38)\n",
            "Requirement already satisfied: tqdm in /usr/local/lib/python3.11/dist-packages (from optuna) (4.67.1)\n",
            "Requirement already satisfied: PyYAML in /usr/local/lib/python3.11/dist-packages (from optuna) (6.0.2)\n",
            "Collecting Mako (from alembic>=1.5.0->optuna)\n",
            "  Downloading Mako-1.3.9-py3-none-any.whl.metadata (2.9 kB)\n",
            "Requirement already satisfied: typing-extensions>=4.12 in /usr/local/lib/python3.11/dist-packages (from alembic>=1.5.0->optuna) (4.12.2)\n",
            "Requirement already satisfied: greenlet!=0.4.17 in /usr/local/lib/python3.11/dist-packages (from sqlalchemy>=1.4.2->optuna) (3.1.1)\n",
            "Requirement already satisfied: MarkupSafe>=0.9.2 in /usr/local/lib/python3.11/dist-packages (from Mako->alembic>=1.5.0->optuna) (3.0.2)\n",
            "Downloading optuna-4.2.1-py3-none-any.whl (383 kB)\n",
            "\u001b[2K   \u001b[90m━━━━━━━━━━━━━━━━━━━━━━━━━━━━━━━━━━━━━━━━\u001b[0m \u001b[32m383.6/383.6 kB\u001b[0m \u001b[31m14.0 MB/s\u001b[0m eta \u001b[36m0:00:00\u001b[0m\n",
            "\u001b[?25hDownloading alembic-1.15.1-py3-none-any.whl (231 kB)\n",
            "\u001b[2K   \u001b[90m━━━━━━━━━━━━━━━━━━━━━━━━━━━━━━━━━━━━━━━━\u001b[0m \u001b[32m231.8/231.8 kB\u001b[0m \u001b[31m19.1 MB/s\u001b[0m eta \u001b[36m0:00:00\u001b[0m\n",
            "\u001b[?25hDownloading colorlog-6.9.0-py3-none-any.whl (11 kB)\n",
            "Downloading Mako-1.3.9-py3-none-any.whl (78 kB)\n",
            "\u001b[2K   \u001b[90m━━━━━━━━━━━━━━━━━━━━━━━━━━━━━━━━━━━━━━━━\u001b[0m \u001b[32m78.5/78.5 kB\u001b[0m \u001b[31m6.7 MB/s\u001b[0m eta \u001b[36m0:00:00\u001b[0m\n",
            "\u001b[?25hInstalling collected packages: Mako, colorlog, alembic, optuna\n",
            "Successfully installed Mako-1.3.9 alembic-1.15.1 colorlog-6.9.0 optuna-4.2.1\n"
          ]
        }
      ]
    },
    {
      "cell_type": "code",
      "source": [
        "import os\n",
        "import sys\n",
        "import pandas as pd\n",
        "import numpy as np\n",
        "import matplotlib.pyplot as plt\n",
        "import seaborn as sns\n",
        "from tensorflow.keras.models import Sequential\n",
        "from tensorflow.keras.layers import LSTM, Dense, Masking, Flatten\n",
        "from tensorflow.keras.optimizers import Adam\n",
        "from tensorflow.keras.preprocessing.sequence import pad_sequences\n",
        "from tensorflow.keras.regularizers import l2\n",
        "from sklearn.model_selection import train_test_split\n",
        "from sklearn.metrics import confusion_matrix, classification_report\n",
        "from sklearn.preprocessing import StandardScaler\n",
        "from sklearn.utils.class_weight import compute_class_weight\n",
        "import optuna\n",
        "import random\n",
        "import tensorflow as tf\n",
        "\n",
        "\n",
        "SEED = 42\n",
        "os.environ['PYTHONHASHSEED'] = str(SEED)\n",
        "random.seed(SEED)\n",
        "np.random.seed(SEED)\n",
        "tf.random.set_seed(SEED)\n",
        "\n",
        "# ---------------------------\n",
        "# Fixed Hyperparameters for Data Processing\n",
        "# ---------------------------\n",
        "epochs = 10  # Use the same number of epochs for each trial\n",
        "\n",
        "# ---------------------------\n",
        "# Data Preparation\n",
        "# ---------------------------\n",
        "input_dir = \"issues-cleanedData\"  # Directory with cleaned CSV files\n",
        "\n",
        "# Lists to hold each repository's sequence and label\n",
        "sequences = []\n",
        "labels = []\n",
        "\n",
        "# Determine union of all categories for the 'issue_state' column across all files\n",
        "issue_state_categories = set()\n",
        "for filename in os.listdir(input_dir):\n",
        "    if filename.endswith(\".csv\"):\n",
        "        file_path = os.path.join(input_dir, filename)\n",
        "        try:\n",
        "            df = pd.read_csv(file_path)\n",
        "        except Exception as e:\n",
        "            print(f\"Error reading {filename}: {e}\")\n",
        "            continue\n",
        "        if 'type' in df.columns:\n",
        "            df = df[df['type'] != 'comment']\n",
        "        if 'issue_state' in df.columns:\n",
        "            unique_states = df['issue_state'].dropna().unique()\n",
        "            issue_state_categories.update(unique_states)\n",
        "issue_state_categories = sorted(list(issue_state_categories))\n",
        "\n",
        "# Mapping for target labels: \"graduated\" is 1 and \"retired\" is 0\n",
        "label_map = {\"graduated\": 1, \"retired\": 0}\n",
        "\n",
        "# Process each CSV file (each representing one repository/sequence)\n",
        "for filename in os.listdir(input_dir):\n",
        "    if filename.endswith(\".csv\"):\n",
        "        file_path = os.path.join(input_dir, filename)\n",
        "        try:\n",
        "            df = pd.read_csv(file_path)\n",
        "        except Exception as e:\n",
        "            print(f\"Error reading {filename}: {e}\")\n",
        "            continue\n",
        "        if 'type' in df.columns:\n",
        "            df = df[df['type'] != 'comment']\n",
        "        if not all(col in df.columns for col in ['issue_state', 'days_elapsed', 'status']):\n",
        "            print(f\"Skipping {filename}: required columns missing.\")\n",
        "            continue\n",
        "        repo_status = df['status'].iloc[0]\n",
        "        repo_status = repo_status.lower() if isinstance(repo_status, str) else repo_status\n",
        "        if repo_status not in label_map:\n",
        "            print(f\"Skipping {filename}: status value '{repo_status}' not in label_map.\")\n",
        "            continue\n",
        "        # One-hot encode 'issue_state'\n",
        "        issue_state_dummies = pd.get_dummies(df['issue_state']).astype(int)\n",
        "        issue_state_dummies = issue_state_dummies.reindex(columns=issue_state_categories, fill_value=0)\n",
        "        # Normalize 'days_elapsed' using StandardScaler\n",
        "        try:\n",
        "            scaler = StandardScaler()\n",
        "            days_elapsed_scaled = scaler.fit_transform(df[['days_elapsed']].astype(float))\n",
        "            days_elapsed = pd.DataFrame(days_elapsed_scaled, columns=['days_elapsed'])\n",
        "        except Exception as e:\n",
        "            print(f\"Error processing 'days_elapsed' in {filename}: {e}\")\n",
        "            continue\n",
        "        # Combine features (only issue_state and days_elapsed)\n",
        "        features = pd.concat([issue_state_dummies, days_elapsed], axis=1)\n",
        "        features = features.fillna(0)\n",
        "        seq = features.values\n",
        "        if seq.shape[0] == 0:\n",
        "            print(f\"Skipping {filename}: no valid rows after filtering.\")\n",
        "            continue\n",
        "        sequences.append(seq)\n",
        "        labels.append(label_map[repo_status])\n",
        "\n",
        "if not sequences:\n",
        "    sys.exit(\"Error: No valid sequences found. Check CSV files for required columns and valid status values.\")\n",
        "\n",
        "# ---------------------------\n",
        "# Sequence Padding\n",
        "# ---------------------------\n",
        "max_timesteps = max(seq.shape[0] for seq in sequences)\n",
        "X = pad_sequences(sequences, maxlen=max_timesteps, dtype='float32', padding='post', value=-1.0)\n",
        "y = np.array(labels)\n",
        "\n",
        "print(\"Processed Data Summary:\")\n",
        "print(\"Number of sequences:\", len(sequences))\n",
        "print(\"Shape of padded sequences (X):\", X.shape)\n",
        "print(\"Labels (y):\", y)\n",
        "\n",
        "# Class Weights for Imbalance\n",
        "class_weights = compute_class_weight('balanced', classes=np.unique(y), y=y)\n",
        "class_weight_dict = {i: class_weights[i] for i in range(len(class_weights))}\n",
        "\n",
        "# ---------------------------\n",
        "# Train / Validation / Test Split (70/10/20)\n",
        "# ---------------------------\n",
        "X_train, X_temp, y_train, y_temp = train_test_split(\n",
        "    X, y, test_size=0.30, stratify=y, random_state=42, shuffle=True\n",
        ")\n",
        "X_val, X_test, y_val, y_test = train_test_split(\n",
        "    X_temp, y_temp, test_size=2/3, stratify=y_temp, random_state=42, shuffle=True\n",
        ")\n",
        "\n",
        "# ---------------------------\n",
        "# Optuna Objective Function for Hyperparameter Tuning\n",
        "# ---------------------------\n",
        "def objective(trial):\n",
        "    lr = trial.suggest_loguniform(\"learning_rate\", 1e-5, 1e-2)\n",
        "    dr = trial.suggest_uniform(\"dropout_rate\", 0.1, 0.5)\n",
        "    bs = trial.suggest_categorical(\"batch_size\", [16, 32, 64])\n",
        "    wd = trial.suggest_loguniform(\"weight_decay\", 1e-5, 1e-3)\n",
        "    units = trial.suggest_categorical(\"lstm_units\", [64, 32])\n",
        "\n",
        "    model = Sequential()\n",
        "    model.add(Masking(mask_value=-1.0, input_shape=(max_timesteps, X.shape[2])))\n",
        "    model.add(LSTM(units, dropout=dr, kernel_regularizer=l2(wd)))\n",
        "    model.add(Flatten())\n",
        "    model.add(Dense(1, activation='relu', kernel_regularizer=l2(wd)))\n",
        "\n",
        "    optimizer = Adam(learning_rate=lr)\n",
        "    model.compile(optimizer=optimizer, loss='binary_crossentropy', metrics=['accuracy'])\n",
        "\n",
        "    history = model.fit(X_train, y_train,\n",
        "                        epochs=epochs,\n",
        "                        batch_size=bs,\n",
        "                        validation_data=(X_val, y_val),\n",
        "                        class_weight=class_weight_dict,\n",
        "                        verbose=1)\n",
        "\n",
        "    y_pred_prob = model.predict(X_test)\n",
        "    y_pred = (y_pred_prob > 0.5).astype(int).reshape(-1)\n",
        "    acc = np.mean(y_pred == y_test)\n",
        "    cm = confusion_matrix(y_test, y_pred)\n",
        "    print(f\"Test Accuracy: {acc}\")\n",
        "    sns.heatmap(cm, annot=True, fmt=\"d\")\n",
        "    plt.title(\"Confusion Matrix\")\n",
        "    plt.xlabel(\"Predicted\")\n",
        "    plt.ylabel(\"Actual\")\n",
        "    plt.show()\n",
        "\n",
        "    # Store test accuracy in trial's user attributes\n",
        "    trial.set_user_attr(\"test_acc\", acc)\n",
        "\n",
        "    return history.history['val_loss'][-1]\n",
        "\n",
        "# ---------------------------\n",
        "# Run Optuna Study with Status Bar\n",
        "# ---------------------------\n",
        "study = optuna.create_study(direction=\"minimize\")\n",
        "study.optimize(objective, n_trials=10, show_progress_bar=True)\n",
        "\n",
        "print(\"Best hyperparameters:\")\n",
        "print(study.best_params)\n",
        "\n",
        "# Corrected retrieval of best test accuracy\n",
        "best_trial = study.best_trial\n",
        "best_acc = best_trial.user_attrs.get(\"test_acc\", None)\n",
        "\n",
        "print(f\"Best Test Accuracy: {best_acc}\")\n"
      ],
      "metadata": {
        "colab": {
          "base_uri": "https://localhost:8080/",
          "height": 1000,
          "referenced_widgets": [
            "2025de6fc1af40d69d1f8ddf708e4177",
            "72976ac645584717a84a5288ba464a41",
            "d0de58fe012f4247877872843566b5fc",
            "2beb62267e144447afe25114f3b29563",
            "5e926331b66a434fb93f27a201748a09",
            "1a4cfddee2ba4e6d90ed53beac0770cb",
            "6d06f3db647d41f79c7bf0770a13c10c",
            "bbca9c923a534b61a385fb4a0bb201d4",
            "b377d6afab71445bbcba145f1e6507de",
            "d0544fd9f91e4c97ba1e593a7b191038",
            "fbff9dbd9495412eaf576a6a916ef1f4"
          ]
        },
        "id": "b7iG9Lbo-g7Q",
        "outputId": "4b26ba38-1e0e-4032-9961-0ab3a8c20658"
      },
      "execution_count": null,
      "outputs": [
        {
          "metadata": {
            "tags": null
          },
          "name": "stderr",
          "output_type": "stream",
          "text": [
            "[I 2025-03-07 05:02:23,865] A new study created in memory with name: no-name-d9e4ec05-cbd8-4fc9-815e-ebdb26496939\n"
          ]
        },
        {
          "metadata": {
            "tags": null
          },
          "name": "stdout",
          "output_type": "stream",
          "text": [
            "Processed Data Summary:\n",
            "Number of sequences: 88\n",
            "Shape of padded sequences (X): (88, 27260, 3)\n",
            "Labels (y): [1 1 1 1 0 0 1 1 1 1 0 0 1 1 1 1 1 0 0 1 1 1 0 1 0 1 0 1 0 1 1 1 0 1 1 1 0\n",
            " 1 0 1 0 0 1 1 1 0 0 1 1 1 1 1 1 1 0 1 1 1 1 0 1 1 0 1 1 1 0 0 1 0 0 1 1 0\n",
            " 0 0 1 1 1 0 1 1 0 1 0 1 1 1]\n"
          ]
        },
        {
          "data": {
            "application/vnd.jupyter.widget-view+json": {
              "model_id": "2025de6fc1af40d69d1f8ddf708e4177",
              "version_major": 2,
              "version_minor": 0
            },
            "text/plain": [
              "  0%|          | 0/10 [00:00<?, ?it/s]"
            ]
          },
          "metadata": {},
          "output_type": "display_data"
        },
        {
          "metadata": {
            "tags": null
          },
          "name": "stderr",
          "output_type": "stream",
          "text": [
            "<ipython-input-3-1d8b81e3c383>:134: FutureWarning: suggest_loguniform has been deprecated in v3.0.0. This feature will be removed in v6.0.0. See https://github.com/optuna/optuna/releases/tag/v3.0.0. Use suggest_float(..., log=True) instead.\n",
            "  lr = trial.suggest_loguniform(\"learning_rate\", 1e-5, 1e-2)\n",
            "<ipython-input-3-1d8b81e3c383>:135: FutureWarning: suggest_uniform has been deprecated in v3.0.0. This feature will be removed in v6.0.0. See https://github.com/optuna/optuna/releases/tag/v3.0.0. Use suggest_float instead.\n",
            "  dr = trial.suggest_uniform(\"dropout_rate\", 0.1, 0.5)\n",
            "<ipython-input-3-1d8b81e3c383>:137: FutureWarning: suggest_loguniform has been deprecated in v3.0.0. This feature will be removed in v6.0.0. See https://github.com/optuna/optuna/releases/tag/v3.0.0. Use suggest_float(..., log=True) instead.\n",
            "  wd = trial.suggest_loguniform(\"weight_decay\", 1e-5, 1e-3)\n",
            "/usr/local/lib/python3.11/dist-packages/keras/src/layers/core/masking.py:47: UserWarning: Do not pass an `input_shape`/`input_dim` argument to a layer. When using Sequential models, prefer using an `Input(shape)` object as the first layer in the model instead.\n",
            "  super().__init__(**kwargs)\n"
          ]
        },
        {
          "output_type": "stream",
          "name": "stdout",
          "text": [
            "Epoch 1/10\n",
            "\u001b[1m4/4\u001b[0m \u001b[32m━━━━━━━━━━━━━━━━━━━━\u001b[0m\u001b[37m\u001b[0m \u001b[1m63s\u001b[0m 12s/step - accuracy: 0.3773 - loss: 1.3653 - val_accuracy: 0.3333 - val_loss: 1.3565\n",
            "Epoch 2/10\n",
            "\u001b[1m4/4\u001b[0m \u001b[32m━━━━━━━━━━━━━━━━━━━━\u001b[0m\u001b[37m\u001b[0m \u001b[1m80s\u001b[0m 13s/step - accuracy: 0.3773 - loss: 1.1821 - val_accuracy: 0.3333 - val_loss: 1.3520\n",
            "Epoch 3/10\n",
            "\u001b[1m4/4\u001b[0m \u001b[32m━━━━━━━━━━━━━━━━━━━━\u001b[0m\u001b[37m\u001b[0m \u001b[1m83s\u001b[0m 13s/step - accuracy: 0.3773 - loss: 1.4567 - val_accuracy: 0.3333 - val_loss: 1.3477\n",
            "Epoch 4/10\n",
            "\u001b[1m4/4\u001b[0m \u001b[32m━━━━━━━━━━━━━━━━━━━━\u001b[0m\u001b[37m\u001b[0m \u001b[1m80s\u001b[0m 13s/step - accuracy: 0.3773 - loss: 1.2491 - val_accuracy: 0.3333 - val_loss: 1.3436\n",
            "Epoch 5/10\n",
            "\u001b[1m4/4\u001b[0m \u001b[32m━━━━━━━━━━━━━━━━━━━━\u001b[0m\u001b[37m\u001b[0m \u001b[1m81s\u001b[0m 12s/step - accuracy: 0.3773 - loss: 1.4182 - val_accuracy: 0.3333 - val_loss: 1.3397\n",
            "Epoch 6/10\n",
            "\u001b[1m4/4\u001b[0m \u001b[32m━━━━━━━━━━━━━━━━━━━━\u001b[0m\u001b[37m\u001b[0m \u001b[1m82s\u001b[0m 12s/step - accuracy: 0.3773 - loss: 1.5568 - val_accuracy: 0.3333 - val_loss: 1.3358\n",
            "Epoch 7/10\n",
            "\u001b[1m4/4\u001b[0m \u001b[32m━━━━━━━━━━━━━━━━━━━━\u001b[0m\u001b[37m\u001b[0m \u001b[1m85s\u001b[0m 13s/step - accuracy: 0.3773 - loss: 1.2784 - val_accuracy: 0.3333 - val_loss: 1.3320\n",
            "Epoch 8/10\n",
            "\u001b[1m4/4\u001b[0m \u001b[32m━━━━━━━━━━━━━━━━━━━━\u001b[0m\u001b[37m\u001b[0m \u001b[1m78s\u001b[0m 12s/step - accuracy: 0.3773 - loss: 1.1967 - val_accuracy: 0.3333 - val_loss: 1.3284\n",
            "Epoch 9/10\n",
            "\u001b[1m4/4\u001b[0m \u001b[32m━━━━━━━━━━━━━━━━━━━━\u001b[0m\u001b[37m\u001b[0m \u001b[1m82s\u001b[0m 12s/step - accuracy: 0.3773 - loss: 1.4152 - val_accuracy: 0.3333 - val_loss: 1.3248\n",
            "Epoch 10/10\n",
            "\u001b[1m4/4\u001b[0m \u001b[32m━━━━━━━━━━━━━━━━━━━━\u001b[0m\u001b[37m\u001b[0m \u001b[1m49s\u001b[0m 13s/step - accuracy: 0.3773 - loss: 1.3857 - val_accuracy: 0.3333 - val_loss: 1.3213\n",
            "\u001b[1m1/1\u001b[0m \u001b[32m━━━━━━━━━━━━━━━━━━━━\u001b[0m\u001b[37m\u001b[0m \u001b[1m2s\u001b[0m 2s/step\n",
            "Test Accuracy: 0.3333333333333333\n"
          ]
        },
        {
          "output_type": "display_data",
          "data": {
            "text/plain": [
              "<Figure size 640x480 with 2 Axes>"
            ],
            "image/png": "[encoded data removed]"
          },
          "metadata": {}
        },
        {
          "output_type": "stream",
          "name": "stdout",
          "text": [
            "[I 2025-03-07 05:15:08,916] Trial 0 finished with value: 1.3212838172912598 and parameters: {'learning_rate': 2.0112923027457703e-05, 'dropout_rate': 0.13632152694934746, 'batch_size': 16, 'weight_decay': 0.0007708288394819343, 'lstm_units': 32}. Best is trial 0 with value: 1.3212838172912598.\n",
            "Epoch 1/10\n"
          ]
        },
        {
          "output_type": "stream",
          "name": "stderr",
          "text": [
            "<ipython-input-3-1d8b81e3c383>:134: FutureWarning: suggest_loguniform has been deprecated in v3.0.0. This feature will be removed in v6.0.0. See https://github.com/optuna/optuna/releases/tag/v3.0.0. Use suggest_float(..., log=True) instead.\n",
            "  lr = trial.suggest_loguniform(\"learning_rate\", 1e-5, 1e-2)\n",
            "<ipython-input-3-1d8b81e3c383>:135: FutureWarning: suggest_uniform has been deprecated in v3.0.0. This feature will be removed in v6.0.0. See https://github.com/optuna/optuna/releases/tag/v3.0.0. Use suggest_float instead.\n",
            "  dr = trial.suggest_uniform(\"dropout_rate\", 0.1, 0.5)\n",
            "<ipython-input-3-1d8b81e3c383>:137: FutureWarning: suggest_loguniform has been deprecated in v3.0.0. This feature will be removed in v6.0.0. See https://github.com/optuna/optuna/releases/tag/v3.0.0. Use suggest_float(..., log=True) instead.\n",
            "  wd = trial.suggest_loguniform(\"weight_decay\", 1e-5, 1e-3)\n",
            "/usr/local/lib/python3.11/dist-packages/keras/src/layers/core/masking.py:47: UserWarning: Do not pass an `input_shape`/`input_dim` argument to a layer. When using Sequential models, prefer using an `Input(shape)` object as the first layer in the model instead.\n",
            "  super().__init__(**kwargs)\n"
          ]
        },
        {
          "output_type": "stream",
          "name": "stdout",
          "text": [
            "\u001b[1m1/1\u001b[0m \u001b[32m━━━━━━━━━━━━━━━━━━━━\u001b[0m\u001b[37m\u001b[0m \u001b[1m24s\u001b[0m 24s/step - accuracy: 0.3443 - loss: 7.6774 - val_accuracy: 0.3333 - val_loss: 10.7457\n",
            "Epoch 2/10\n",
            "\u001b[1m1/1\u001b[0m \u001b[32m━━━━━━━━━━━━━━━━━━━━\u001b[0m\u001b[37m\u001b[0m \u001b[1m38s\u001b[0m 38s/step - accuracy: 0.3443 - loss: 6.3187 - val_accuracy: 0.3333 - val_loss: 10.7457\n",
            "Epoch 3/10\n",
            "\u001b[1m1/1\u001b[0m \u001b[32m━━━━━━━━━━━━━━━━━━━━\u001b[0m\u001b[37m\u001b[0m \u001b[1m19s\u001b[0m 19s/step - accuracy: 0.3443 - loss: 6.8625 - val_accuracy: 0.3333 - val_loss: 10.7457\n",
            "Epoch 4/10\n",
            "\u001b[1m1/1\u001b[0m \u001b[32m━━━━━━━━━━━━━━━━━━━━\u001b[0m\u001b[37m\u001b[0m \u001b[1m18s\u001b[0m 18s/step - accuracy: 0.3443 - loss: 6.4558 - val_accuracy: 0.3333 - val_loss: 10.7457\n",
            "Epoch 5/10\n",
            "\u001b[1m1/1\u001b[0m \u001b[32m━━━━━━━━━━━━━━━━━━━━\u001b[0m\u001b[37m\u001b[0m \u001b[1m22s\u001b[0m 22s/step - accuracy: 0.3443 - loss: 5.8776 - val_accuracy: 0.3333 - val_loss: 10.7457\n",
            "Epoch 6/10\n",
            "\u001b[1m1/1\u001b[0m \u001b[32m━━━━━━━━━━━━━━━━━━━━\u001b[0m\u001b[37m\u001b[0m \u001b[1m20s\u001b[0m 20s/step - accuracy: 0.3443 - loss: 6.7275 - val_accuracy: 0.3333 - val_loss: 10.7457\n",
            "Epoch 7/10\n",
            "\u001b[1m1/1\u001b[0m \u001b[32m━━━━━━━━━━━━━━━━━━━━\u001b[0m\u001b[37m\u001b[0m \u001b[1m21s\u001b[0m 21s/step - accuracy: 0.3443 - loss: 6.4293 - val_accuracy: 0.3333 - val_loss: 10.7457\n",
            "Epoch 8/10\n",
            "\u001b[1m1/1\u001b[0m \u001b[32m━━━━━━━━━━━━━━━━━━━━\u001b[0m\u001b[37m\u001b[0m \u001b[1m20s\u001b[0m 20s/step - accuracy: 0.3443 - loss: 6.1096 - val_accuracy: 0.3333 - val_loss: 10.7457\n",
            "Epoch 9/10\n",
            "\u001b[1m1/1\u001b[0m \u001b[32m━━━━━━━━━━━━━━━━━━━━\u001b[0m\u001b[37m\u001b[0m \u001b[1m19s\u001b[0m 19s/step - accuracy: 0.3443 - loss: 6.4053 - val_accuracy: 0.3333 - val_loss: 10.7457\n",
            "Epoch 10/10\n",
            "\u001b[1m1/1\u001b[0m \u001b[32m━━━━━━━━━━━━━━━━━━━━\u001b[0m\u001b[37m\u001b[0m \u001b[1m21s\u001b[0m 21s/step - accuracy: 0.3443 - loss: 6.3756 - val_accuracy: 0.3333 - val_loss: 10.7457\n",
            "\u001b[1m1/1\u001b[0m \u001b[32m━━━━━━━━━━━━━━━━━━━━\u001b[0m\u001b[37m\u001b[0m \u001b[1m2s\u001b[0m 2s/step\n",
            "Test Accuracy: 0.3333333333333333\n"
          ]
        },
        {
          "output_type": "display_data",
          "data": {
            "text/plain": [
              "<Figure size 640x480 with 2 Axes>"
            ],
            "image/png": "[encoded data removed]"
          },
          "metadata": {}
        },
        {
          "output_type": "stream",
          "name": "stdout",
          "text": [
            "[I 2025-03-07 05:18:57,514] Trial 1 finished with value: 10.745678901672363 and parameters: {'learning_rate': 6.745843996037322e-05, 'dropout_rate': 0.3273496061565938, 'batch_size': 64, 'weight_decay': 3.8839047566371e-05, 'lstm_units': 32}. Best is trial 0 with value: 1.3212838172912598.\n",
            "Epoch 1/10\n"
          ]
        },
        {
          "output_type": "stream",
          "name": "stderr",
          "text": [
            "<ipython-input-3-1d8b81e3c383>:134: FutureWarning: suggest_loguniform has been deprecated in v3.0.0. This feature will be removed in v6.0.0. See https://github.com/optuna/optuna/releases/tag/v3.0.0. Use suggest_float(..., log=True) instead.\n",
            "  lr = trial.suggest_loguniform(\"learning_rate\", 1e-5, 1e-2)\n",
            "<ipython-input-3-1d8b81e3c383>:135: FutureWarning: suggest_uniform has been deprecated in v3.0.0. This feature will be removed in v6.0.0. See https://github.com/optuna/optuna/releases/tag/v3.0.0. Use suggest_float instead.\n",
            "  dr = trial.suggest_uniform(\"dropout_rate\", 0.1, 0.5)\n",
            "<ipython-input-3-1d8b81e3c383>:137: FutureWarning: suggest_loguniform has been deprecated in v3.0.0. This feature will be removed in v6.0.0. See https://github.com/optuna/optuna/releases/tag/v3.0.0. Use suggest_float(..., log=True) instead.\n",
            "  wd = trial.suggest_loguniform(\"weight_decay\", 1e-5, 1e-3)\n",
            "/usr/local/lib/python3.11/dist-packages/keras/src/layers/core/masking.py:47: UserWarning: Do not pass an `input_shape`/`input_dim` argument to a layer. When using Sequential models, prefer using an `Input(shape)` object as the first layer in the model instead.\n",
            "  super().__init__(**kwargs)\n"
          ]
        },
        {
          "output_type": "stream",
          "name": "stdout",
          "text": [
            "\u001b[1m1/1\u001b[0m \u001b[32m━━━━━━━━━━━━━━━━━━━━\u001b[0m\u001b[37m\u001b[0m \u001b[1m27s\u001b[0m 27s/step - accuracy: 0.3443 - loss: 3.8819 - val_accuracy: 0.3333 - val_loss: 1.4495\n",
            "Epoch 2/10\n",
            "\u001b[1m1/1\u001b[0m \u001b[32m━━━━━━━━━━━━━━━━━━━━\u001b[0m\u001b[37m\u001b[0m \u001b[1m23s\u001b[0m 23s/step - accuracy: 0.3443 - loss: 1.3680 - val_accuracy: 0.3333 - val_loss: 1.1994\n",
            "Epoch 3/10\n",
            "\u001b[1m1/1\u001b[0m \u001b[32m━━━━━━━━━━━━━━━━━━━━\u001b[0m\u001b[37m\u001b[0m \u001b[1m39s\u001b[0m 39s/step - accuracy: 0.3934 - loss: 1.1615 - val_accuracy: 0.3333 - val_loss: 1.0214\n",
            "Epoch 4/10\n",
            "\u001b[1m1/1\u001b[0m \u001b[32m━━━━━━━━━━━━━━━━━━━━\u001b[0m\u001b[37m\u001b[0m \u001b[1m27s\u001b[0m 27s/step - accuracy: 0.4098 - loss: 1.4694 - val_accuracy: 0.3333 - val_loss: 0.8767\n",
            "Epoch 5/10\n",
            "\u001b[1m1/1\u001b[0m \u001b[32m━━━━━━━━━━━━━━━━━━━━\u001b[0m\u001b[37m\u001b[0m \u001b[1m35s\u001b[0m 35s/step - accuracy: 0.5574 - loss: 1.4180 - val_accuracy: 0.3333 - val_loss: 0.7570\n",
            "Epoch 6/10\n",
            "\u001b[1m1/1\u001b[0m \u001b[32m━━━━━━━━━━━━━━━━━━━━\u001b[0m\u001b[37m\u001b[0m \u001b[1m42s\u001b[0m 42s/step - accuracy: 0.5738 - loss: 1.3297 - val_accuracy: 0.6667 - val_loss: 0.6528\n",
            "Epoch 7/10\n",
            "\u001b[1m1/1\u001b[0m \u001b[32m━━━━━━━━━━━━━━━━━━━━\u001b[0m\u001b[37m\u001b[0m \u001b[1m21s\u001b[0m 21s/step - accuracy: 0.5902 - loss: 1.7862 - val_accuracy: 0.7778 - val_loss: 0.6034\n",
            "Epoch 8/10\n",
            "\u001b[1m1/1\u001b[0m \u001b[32m━━━━━━━━━━━━━━━━━━━━\u001b[0m\u001b[37m\u001b[0m \u001b[1m42s\u001b[0m 42s/step - accuracy: 0.5410 - loss: 2.3254 - val_accuracy: 0.6667 - val_loss: 0.5778\n",
            "Epoch 9/10\n",
            "\u001b[1m1/1\u001b[0m \u001b[32m━━━━━━━━━━━━━━━━━━━━\u001b[0m\u001b[37m\u001b[0m \u001b[1m25s\u001b[0m 25s/step - accuracy: 0.5246 - loss: 1.9268 - val_accuracy: 0.6667 - val_loss: 0.5839\n",
            "Epoch 10/10\n",
            "\u001b[1m1/1\u001b[0m \u001b[32m━━━━━━━━━━━━━━━━━━━━\u001b[0m\u001b[37m\u001b[0m \u001b[1m21s\u001b[0m 21s/step - accuracy: 0.6066 - loss: 2.5432 - val_accuracy: 0.6667 - val_loss: 0.7450\n",
            "\u001b[1m1/1\u001b[0m \u001b[32m━━━━━━━━━━━━━━━━━━━━\u001b[0m\u001b[37m\u001b[0m \u001b[1m2s\u001b[0m 2s/step\n",
            "Test Accuracy: 0.8333333333333334\n"
          ]
        },
        {
          "output_type": "display_data",
          "data": {
            "text/plain": [
              "<Figure size 640x480 with 2 Axes>"
            ],
            "image/png": "[encoded data removed]"
          },
          "metadata": {}
        },
        {
          "output_type": "stream",
          "name": "stdout",
          "text": [
            "[I 2025-03-07 05:24:23,351] Trial 2 finished with value: 0.7450165152549744 and parameters: {'learning_rate': 0.0015722873806834551, 'dropout_rate': 0.3937392288078445, 'batch_size': 64, 'weight_decay': 0.00047822792484812334, 'lstm_units': 64}. Best is trial 2 with value: 0.7450165152549744.\n",
            "Epoch 1/10\n"
          ]
        },
        {
          "output_type": "stream",
          "name": "stderr",
          "text": [
            "<ipython-input-3-1d8b81e3c383>:134: FutureWarning: suggest_loguniform has been deprecated in v3.0.0. This feature will be removed in v6.0.0. See https://github.com/optuna/optuna/releases/tag/v3.0.0. Use suggest_float(..., log=True) instead.\n",
            "  lr = trial.suggest_loguniform(\"learning_rate\", 1e-5, 1e-2)\n",
            "<ipython-input-3-1d8b81e3c383>:135: FutureWarning: suggest_uniform has been deprecated in v3.0.0. This feature will be removed in v6.0.0. See https://github.com/optuna/optuna/releases/tag/v3.0.0. Use suggest_float instead.\n",
            "  dr = trial.suggest_uniform(\"dropout_rate\", 0.1, 0.5)\n",
            "<ipython-input-3-1d8b81e3c383>:137: FutureWarning: suggest_loguniform has been deprecated in v3.0.0. This feature will be removed in v6.0.0. See https://github.com/optuna/optuna/releases/tag/v3.0.0. Use suggest_float(..., log=True) instead.\n",
            "  wd = trial.suggest_loguniform(\"weight_decay\", 1e-5, 1e-3)\n",
            "/usr/local/lib/python3.11/dist-packages/keras/src/layers/core/masking.py:47: UserWarning: Do not pass an `input_shape`/`input_dim` argument to a layer. When using Sequential models, prefer using an `Input(shape)` object as the first layer in the model instead.\n",
            "  super().__init__(**kwargs)\n"
          ]
        },
        {
          "output_type": "stream",
          "name": "stdout",
          "text": [
            "\u001b[1m1/1\u001b[0m \u001b[32m━━━━━━━━━━━━━━━━━━━━\u001b[0m\u001b[37m\u001b[0m \u001b[1m29s\u001b[0m 29s/step - accuracy: 0.3443 - loss: 3.5486 - val_accuracy: 0.3333 - val_loss: 1.7480\n",
            "Epoch 2/10\n",
            "\u001b[1m1/1\u001b[0m \u001b[32m━━━━━━━━━━━━━━━━━━━━\u001b[0m\u001b[37m\u001b[0m \u001b[1m26s\u001b[0m 26s/step - accuracy: 0.3443 - loss: 2.4624 - val_accuracy: 0.3333 - val_loss: 1.7417\n",
            "Epoch 3/10\n",
            "\u001b[1m1/1\u001b[0m \u001b[32m━━━━━━━━━━━━━━━━━━━━\u001b[0m\u001b[37m\u001b[0m \u001b[1m21s\u001b[0m 21s/step - accuracy: 0.3443 - loss: 2.5427 - val_accuracy: 0.3333 - val_loss: 1.7353\n",
            "Epoch 4/10\n",
            "\u001b[1m1/1\u001b[0m \u001b[32m━━━━━━━━━━━━━━━━━━━━\u001b[0m\u001b[37m\u001b[0m \u001b[1m42s\u001b[0m 42s/step - accuracy: 0.3443 - loss: 2.5243 - val_accuracy: 0.3333 - val_loss: 1.7288\n",
            "Epoch 5/10\n",
            "\u001b[1m1/1\u001b[0m \u001b[32m━━━━━━━━━━━━━━━━━━━━\u001b[0m\u001b[37m\u001b[0m \u001b[1m41s\u001b[0m 41s/step - accuracy: 0.3443 - loss: 2.0895 - val_accuracy: 0.3333 - val_loss: 1.7225\n",
            "Epoch 6/10\n",
            "\u001b[1m1/1\u001b[0m \u001b[32m━━━━━━━━━━━━━━━━━━━━\u001b[0m\u001b[37m\u001b[0m \u001b[1m23s\u001b[0m 23s/step - accuracy: 0.3443 - loss: 2.1507 - val_accuracy: 0.3333 - val_loss: 1.7163\n",
            "Epoch 7/10\n",
            "\u001b[1m1/1\u001b[0m \u001b[32m━━━━━━━━━━━━━━━━━━━━\u001b[0m\u001b[37m\u001b[0m \u001b[1m40s\u001b[0m 40s/step - accuracy: 0.3443 - loss: 1.8968 - val_accuracy: 0.3333 - val_loss: 1.7104\n",
            "Epoch 8/10\n",
            "\u001b[1m1/1\u001b[0m \u001b[32m━━━━━━━━━━━━━━━━━━━━\u001b[0m\u001b[37m\u001b[0m \u001b[1m40s\u001b[0m 40s/step - accuracy: 0.3443 - loss: 2.2581 - val_accuracy: 0.3333 - val_loss: 1.7046\n",
            "Epoch 9/10\n",
            "\u001b[1m1/1\u001b[0m \u001b[32m━━━━━━━━━━━━━━━━━━━━\u001b[0m\u001b[37m\u001b[0m \u001b[1m22s\u001b[0m 22s/step - accuracy: 0.3443 - loss: 2.1781 - val_accuracy: 0.3333 - val_loss: 1.6990\n",
            "Epoch 10/10\n",
            "\u001b[1m1/1\u001b[0m \u001b[32m━━━━━━━━━━━━━━━━━━━━\u001b[0m\u001b[37m\u001b[0m \u001b[1m22s\u001b[0m 22s/step - accuracy: 0.3443 - loss: 2.0420 - val_accuracy: 0.3333 - val_loss: 1.6935\n",
            "\u001b[1m1/1\u001b[0m \u001b[32m━━━━━━━━━━━━━━━━━━━━\u001b[0m\u001b[37m\u001b[0m \u001b[1m3s\u001b[0m 3s/step\n",
            "Test Accuracy: 0.3333333333333333\n"
          ]
        },
        {
          "output_type": "display_data",
          "data": {
            "text/plain": [
              "<Figure size 640x480 with 2 Axes>"
            ],
            "image/png": "[encoded data removed]"
          },
          "metadata": {}
        },
        {
          "output_type": "stream",
          "name": "stdout",
          "text": [
            "[I 2025-03-07 05:29:54,053] Trial 3 finished with value: 1.69346022605896 and parameters: {'learning_rate': 2.578356877714588e-05, 'dropout_rate': 0.4317849662763906, 'batch_size': 64, 'weight_decay': 0.00010714593625036118, 'lstm_units': 64}. Best is trial 2 with value: 0.7450165152549744.\n",
            "Epoch 1/10\n"
          ]
        },
        {
          "output_type": "stream",
          "name": "stderr",
          "text": [
            "<ipython-input-3-1d8b81e3c383>:134: FutureWarning: suggest_loguniform has been deprecated in v3.0.0. This feature will be removed in v6.0.0. See https://github.com/optuna/optuna/releases/tag/v3.0.0. Use suggest_float(..., log=True) instead.\n",
            "  lr = trial.suggest_loguniform(\"learning_rate\", 1e-5, 1e-2)\n",
            "<ipython-input-3-1d8b81e3c383>:135: FutureWarning: suggest_uniform has been deprecated in v3.0.0. This feature will be removed in v6.0.0. See https://github.com/optuna/optuna/releases/tag/v3.0.0. Use suggest_float instead.\n",
            "  dr = trial.suggest_uniform(\"dropout_rate\", 0.1, 0.5)\n",
            "<ipython-input-3-1d8b81e3c383>:137: FutureWarning: suggest_loguniform has been deprecated in v3.0.0. This feature will be removed in v6.0.0. See https://github.com/optuna/optuna/releases/tag/v3.0.0. Use suggest_float(..., log=True) instead.\n",
            "  wd = trial.suggest_loguniform(\"weight_decay\", 1e-5, 1e-3)\n",
            "/usr/local/lib/python3.11/dist-packages/keras/src/layers/core/masking.py:47: UserWarning: Do not pass an `input_shape`/`input_dim` argument to a layer. When using Sequential models, prefer using an `Input(shape)` object as the first layer in the model instead.\n",
            "  super().__init__(**kwargs)\n"
          ]
        },
        {
          "output_type": "stream",
          "name": "stdout",
          "text": [
            "\u001b[1m2/2\u001b[0m \u001b[32m━━━━━━━━━━━━━━━━━━━━\u001b[0m\u001b[37m\u001b[0m \u001b[1m38s\u001b[0m 19s/step - accuracy: 0.3441 - loss: 6.8530 - val_accuracy: 0.3333 - val_loss: 10.7458\n",
            "Epoch 2/10\n",
            "\u001b[1m2/2\u001b[0m \u001b[32m━━━━━━━━━━━━━━━━━━━━\u001b[0m\u001b[37m\u001b[0m \u001b[1m44s\u001b[0m 20s/step - accuracy: 0.3441 - loss: 4.6751 - val_accuracy: 0.3333 - val_loss: 10.7458\n",
            "Epoch 3/10\n",
            "\u001b[1m2/2\u001b[0m \u001b[32m━━━━━━━━━━━━━━━━━━━━\u001b[0m\u001b[37m\u001b[0m \u001b[1m72s\u001b[0m 18s/step - accuracy: 0.3441 - loss: 6.0896 - val_accuracy: 0.3333 - val_loss: 10.7458\n",
            "Epoch 4/10\n",
            "\u001b[1m2/2\u001b[0m \u001b[32m━━━━━━━━━━━━━━━━━━━━\u001b[0m\u001b[37m\u001b[0m \u001b[1m41s\u001b[0m 18s/step - accuracy: 0.3441 - loss: 5.6938 - val_accuracy: 0.3333 - val_loss: 10.7458\n",
            "Epoch 5/10\n",
            "\u001b[1m2/2\u001b[0m \u001b[32m━━━━━━━━━━━━━━━━━━━━\u001b[0m\u001b[37m\u001b[0m \u001b[1m41s\u001b[0m 17s/step - accuracy: 0.3441 - loss: 4.9372 - val_accuracy: 0.3333 - val_loss: 10.7458\n",
            "Epoch 6/10\n",
            "\u001b[1m2/2\u001b[0m \u001b[32m━━━━━━━━━━━━━━━━━━━━\u001b[0m\u001b[37m\u001b[0m \u001b[1m35s\u001b[0m 20s/step - accuracy: 0.3441 - loss: 5.0542 - val_accuracy: 0.3333 - val_loss: 10.7458\n",
            "Epoch 7/10\n",
            "\u001b[1m2/2\u001b[0m \u001b[32m━━━━━━━━━━━━━━━━━━━━\u001b[0m\u001b[37m\u001b[0m \u001b[1m34s\u001b[0m 17s/step - accuracy: 0.3441 - loss: 5.0259 - val_accuracy: 0.3333 - val_loss: 10.7458\n",
            "Epoch 8/10\n",
            "\u001b[1m2/2\u001b[0m \u001b[32m━━━━━━━━━━━━━━━━━━━━\u001b[0m\u001b[37m\u001b[0m \u001b[1m42s\u001b[0m 20s/step - accuracy: 0.3441 - loss: 6.2107 - val_accuracy: 0.3333 - val_loss: 10.7458\n",
            "Epoch 9/10\n",
            "\u001b[1m2/2\u001b[0m \u001b[32m━━━━━━━━━━━━━━━━━━━━\u001b[0m\u001b[37m\u001b[0m \u001b[1m40s\u001b[0m 19s/step - accuracy: 0.3441 - loss: 4.3005 - val_accuracy: 0.3333 - val_loss: 10.7458\n",
            "Epoch 10/10\n",
            "\u001b[1m2/2\u001b[0m \u001b[32m━━━━━━━━━━━━━━━━━━━━\u001b[0m\u001b[37m\u001b[0m \u001b[1m41s\u001b[0m 18s/step - accuracy: 0.3441 - loss: 4.6711 - val_accuracy: 0.3333 - val_loss: 10.7458\n"
          ]
        },
        {
          "output_type": "stream",
          "name": "stderr",
          "text": [
            "WARNING:tensorflow:5 out of the last 5 calls to <function TensorFlowTrainer.make_predict_function.<locals>.one_step_on_data_distributed at 0x7c26e598ba60> triggered tf.function retracing. Tracing is expensive and the excessive number of tracings could be due to (1) creating @tf.function repeatedly in a loop, (2) passing tensors with different shapes, (3) passing Python objects instead of tensors. For (1), please define your @tf.function outside of the loop. For (2), @tf.function has reduce_retracing=True option that can avoid unnecessary retracing. For (3), please refer to https://www.tensorflow.org/guide/function#controlling_retracing and https://www.tensorflow.org/api_docs/python/tf/function for  more details.\n"
          ]
        },
        {
          "output_type": "stream",
          "name": "stdout",
          "text": [
            "\u001b[1m1/1\u001b[0m \u001b[32m━━━━━━━━━━━━━━━━━━━━\u001b[0m\u001b[37m\u001b[0m \u001b[1m3s\u001b[0m 3s/step\n",
            "Test Accuracy: 0.3333333333333333\n"
          ]
        },
        {
          "output_type": "display_data",
          "data": {
            "text/plain": [
              "<Figure size 640x480 with 2 Axes>"
            ],
            "image/png": "[encoded data removed]"
          },
          "metadata": {}
        },
        {
          "output_type": "stream",
          "name": "stdout",
          "text": [
            "[I 2025-03-07 05:37:13,823] Trial 4 finished with value: 10.74577808380127 and parameters: {'learning_rate': 0.00014123210288044218, 'dropout_rate': 0.4792551968596118, 'batch_size': 32, 'weight_decay': 4.573490197239634e-05, 'lstm_units': 64}. Best is trial 2 with value: 0.7450165152549744.\n",
            "Epoch 1/10\n"
          ]
        },
        {
          "output_type": "stream",
          "name": "stderr",
          "text": [
            "<ipython-input-3-1d8b81e3c383>:134: FutureWarning: suggest_loguniform has been deprecated in v3.0.0. This feature will be removed in v6.0.0. See https://github.com/optuna/optuna/releases/tag/v3.0.0. Use suggest_float(..., log=True) instead.\n",
            "  lr = trial.suggest_loguniform(\"learning_rate\", 1e-5, 1e-2)\n",
            "<ipython-input-3-1d8b81e3c383>:135: FutureWarning: suggest_uniform has been deprecated in v3.0.0. This feature will be removed in v6.0.0. See https://github.com/optuna/optuna/releases/tag/v3.0.0. Use suggest_float instead.\n",
            "  dr = trial.suggest_uniform(\"dropout_rate\", 0.1, 0.5)\n",
            "<ipython-input-3-1d8b81e3c383>:137: FutureWarning: suggest_loguniform has been deprecated in v3.0.0. This feature will be removed in v6.0.0. See https://github.com/optuna/optuna/releases/tag/v3.0.0. Use suggest_float(..., log=True) instead.\n",
            "  wd = trial.suggest_loguniform(\"weight_decay\", 1e-5, 1e-3)\n",
            "/usr/local/lib/python3.11/dist-packages/keras/src/layers/core/masking.py:47: UserWarning: Do not pass an `input_shape`/`input_dim` argument to a layer. When using Sequential models, prefer using an `Input(shape)` object as the first layer in the model instead.\n",
            "  super().__init__(**kwargs)\n"
          ]
        },
        {
          "output_type": "stream",
          "name": "stdout",
          "text": [
            "\u001b[1m1/1\u001b[0m \u001b[32m━━━━━━━━━━━━━━━━━━━━\u001b[0m\u001b[37m\u001b[0m \u001b[1m30s\u001b[0m 30s/step - accuracy: 0.3443 - loss: 4.3992 - val_accuracy: 0.3333 - val_loss: 2.3894\n",
            "Epoch 2/10\n",
            "\u001b[1m1/1\u001b[0m \u001b[32m━━━━━━━━━━━━━━━━━━━━\u001b[0m\u001b[37m\u001b[0m \u001b[1m37s\u001b[0m 37s/step - accuracy: 0.3443 - loss: 2.3822 - val_accuracy: 0.3333 - val_loss: 2.0214\n",
            "Epoch 3/10\n",
            "\u001b[1m1/1\u001b[0m \u001b[32m━━━━━━━━━━━━━━━━━━━━\u001b[0m\u001b[37m\u001b[0m \u001b[1m41s\u001b[0m 41s/step - accuracy: 0.3443 - loss: 1.8879 - val_accuracy: 0.3333 - val_loss: 1.8209\n",
            "Epoch 4/10\n",
            "\u001b[1m1/1\u001b[0m \u001b[32m━━━━━━━━━━━━━━━━━━━━\u001b[0m\u001b[37m\u001b[0m \u001b[1m24s\u001b[0m 24s/step - accuracy: 0.3443 - loss: 1.5722 - val_accuracy: 0.3333 - val_loss: 1.6857\n",
            "Epoch 5/10\n",
            "\u001b[1m1/1\u001b[0m \u001b[32m━━━━━━━━━━━━━━━━━━━━\u001b[0m\u001b[37m\u001b[0m \u001b[1m21s\u001b[0m 21s/step - accuracy: 0.3443 - loss: 1.3627 - val_accuracy: 0.3333 - val_loss: 1.5814\n",
            "Epoch 6/10\n",
            "\u001b[1m1/1\u001b[0m \u001b[32m━━━━━━━━━━━━━━━━━━━━\u001b[0m\u001b[37m\u001b[0m \u001b[1m22s\u001b[0m 22s/step - accuracy: 0.3443 - loss: 1.3721 - val_accuracy: 0.3333 - val_loss: 1.5000\n",
            "Epoch 7/10\n",
            "\u001b[1m1/1\u001b[0m \u001b[32m━━━━━━━━━━━━━━━━━━━━\u001b[0m\u001b[37m\u001b[0m \u001b[1m40s\u001b[0m 40s/step - accuracy: 0.3443 - loss: 1.3811 - val_accuracy: 0.3333 - val_loss: 1.4336\n",
            "Epoch 8/10\n",
            "\u001b[1m1/1\u001b[0m \u001b[32m━━━━━━━━━━━━━━━━━━━━\u001b[0m\u001b[37m\u001b[0m \u001b[1m25s\u001b[0m 25s/step - accuracy: 0.3443 - loss: 1.2913 - val_accuracy: 0.3333 - val_loss: 1.3778\n",
            "Epoch 9/10\n",
            "\u001b[1m1/1\u001b[0m \u001b[32m━━━━━━━━━━━━━━━━━━━━\u001b[0m\u001b[37m\u001b[0m \u001b[1m22s\u001b[0m 22s/step - accuracy: 0.3607 - loss: 1.2644 - val_accuracy: 0.3333 - val_loss: 1.3299\n",
            "Epoch 10/10\n",
            "\u001b[1m1/1\u001b[0m \u001b[32m━━━━━━━━━━━━━━━━━━━━\u001b[0m\u001b[37m\u001b[0m \u001b[1m40s\u001b[0m 40s/step - accuracy: 0.3607 - loss: 1.2106 - val_accuracy: 0.3333 - val_loss: 1.2879\n"
          ]
        },
        {
          "output_type": "stream",
          "name": "stderr",
          "text": [
            "WARNING:tensorflow:6 out of the last 6 calls to <function TensorFlowTrainer.make_predict_function.<locals>.one_step_on_data_distributed at 0x7c26e54b5760> triggered tf.function retracing. Tracing is expensive and the excessive number of tracings could be due to (1) creating @tf.function repeatedly in a loop, (2) passing tensors with different shapes, (3) passing Python objects instead of tensors. For (1), please define your @tf.function outside of the loop. For (2), @tf.function has reduce_retracing=True option that can avoid unnecessary retracing. For (3), please refer to https://www.tensorflow.org/guide/function#controlling_retracing and https://www.tensorflow.org/api_docs/python/tf/function for  more details.\n"
          ]
        },
        {
          "output_type": "stream",
          "name": "stdout",
          "text": [
            "\u001b[1m1/1\u001b[0m \u001b[32m━━━━━━━━━━━━━━━━━━━━\u001b[0m\u001b[37m\u001b[0m \u001b[1m4s\u001b[0m 4s/step\n",
            "Test Accuracy: 0.3333333333333333\n"
          ]
        },
        {
          "output_type": "display_data",
          "data": {
            "text/plain": [
              "<Figure size 640x480 with 2 Axes>"
            ],
            "image/png": "[encoded data removed]"
          },
          "metadata": {}
        },
        {
          "output_type": "stream",
          "name": "stdout",
          "text": [
            "[I 2025-03-07 05:42:20,618] Trial 5 finished with value: 1.2878901958465576 and parameters: {'learning_rate': 0.0009265306936639451, 'dropout_rate': 0.19176603564747394, 'batch_size': 64, 'weight_decay': 0.00012528028760471627, 'lstm_units': 64}. Best is trial 2 with value: 0.7450165152549744.\n",
            "Epoch 1/10\n"
          ]
        },
        {
          "output_type": "stream",
          "name": "stderr",
          "text": [
            "<ipython-input-3-1d8b81e3c383>:134: FutureWarning: suggest_loguniform has been deprecated in v3.0.0. This feature will be removed in v6.0.0. See https://github.com/optuna/optuna/releases/tag/v3.0.0. Use suggest_float(..., log=True) instead.\n",
            "  lr = trial.suggest_loguniform(\"learning_rate\", 1e-5, 1e-2)\n",
            "<ipython-input-3-1d8b81e3c383>:135: FutureWarning: suggest_uniform has been deprecated in v3.0.0. This feature will be removed in v6.0.0. See https://github.com/optuna/optuna/releases/tag/v3.0.0. Use suggest_float instead.\n",
            "  dr = trial.suggest_uniform(\"dropout_rate\", 0.1, 0.5)\n",
            "<ipython-input-3-1d8b81e3c383>:137: FutureWarning: suggest_loguniform has been deprecated in v3.0.0. This feature will be removed in v6.0.0. See https://github.com/optuna/optuna/releases/tag/v3.0.0. Use suggest_float(..., log=True) instead.\n",
            "  wd = trial.suggest_loguniform(\"weight_decay\", 1e-5, 1e-3)\n",
            "/usr/local/lib/python3.11/dist-packages/keras/src/layers/core/masking.py:47: UserWarning: Do not pass an `input_shape`/`input_dim` argument to a layer. When using Sequential models, prefer using an `Input(shape)` object as the first layer in the model instead.\n",
            "  super().__init__(**kwargs)\n"
          ]
        },
        {
          "output_type": "stream",
          "name": "stdout",
          "text": [
            "\u001b[1m2/2\u001b[0m \u001b[32m━━━━━━━━━━━━━━━━━━━━\u001b[0m\u001b[37m\u001b[0m \u001b[1m32s\u001b[0m 15s/step - accuracy: 0.3441 - loss: 6.9167 - val_accuracy: 0.3333 - val_loss: 10.7461\n",
            "Epoch 2/10\n",
            "\u001b[1m2/2\u001b[0m \u001b[32m━━━━━━━━━━━━━━━━━━━━\u001b[0m\u001b[37m\u001b[0m \u001b[1m41s\u001b[0m 15s/step - accuracy: 0.3441 - loss: 6.3763 - val_accuracy: 0.3333 - val_loss: 10.7461\n",
            "Epoch 3/10\n",
            "\u001b[1m2/2\u001b[0m \u001b[32m━━━━━━━━━━━━━━━━━━━━\u001b[0m\u001b[37m\u001b[0m \u001b[1m40s\u001b[0m 15s/step - accuracy: 0.3441 - loss: 6.6404 - val_accuracy: 0.3333 - val_loss: 10.7461\n",
            "Epoch 4/10\n",
            "\u001b[1m2/2\u001b[0m \u001b[32m━━━━━━━━━━━━━━━━━━━━\u001b[0m\u001b[37m\u001b[0m \u001b[1m42s\u001b[0m 15s/step - accuracy: 0.3441 - loss: 6.8895 - val_accuracy: 0.3333 - val_loss: 10.7461\n",
            "Epoch 5/10\n",
            "\u001b[1m2/2\u001b[0m \u001b[32m━━━━━━━━━━━━━━━━━━━━\u001b[0m\u001b[37m\u001b[0m \u001b[1m28s\u001b[0m 15s/step - accuracy: 0.3441 - loss: 6.1203 - val_accuracy: 0.3333 - val_loss: 10.7461\n",
            "Epoch 6/10\n",
            "\u001b[1m2/2\u001b[0m \u001b[32m━━━━━━━━━━━━━━━━━━━━\u001b[0m\u001b[37m\u001b[0m \u001b[1m40s\u001b[0m 15s/step - accuracy: 0.3441 - loss: 6.0656 - val_accuracy: 0.3333 - val_loss: 10.7461\n",
            "Epoch 7/10\n",
            "\u001b[1m2/2\u001b[0m \u001b[32m━━━━━━━━━━━━━━━━━━━━\u001b[0m\u001b[37m\u001b[0m \u001b[1m29s\u001b[0m 17s/step - accuracy: 0.3441 - loss: 5.9381 - val_accuracy: 0.3333 - val_loss: 10.7461\n",
            "Epoch 8/10\n",
            "\u001b[1m2/2\u001b[0m \u001b[32m━━━━━━━━━━━━━━━━━━━━\u001b[0m\u001b[37m\u001b[0m \u001b[1m39s\u001b[0m 15s/step - accuracy: 0.3441 - loss: 6.0441 - val_accuracy: 0.3333 - val_loss: 10.7461\n",
            "Epoch 9/10\n",
            "\u001b[1m2/2\u001b[0m \u001b[32m━━━━━━━━━━━━━━━━━━━━\u001b[0m\u001b[37m\u001b[0m \u001b[1m27s\u001b[0m 15s/step - accuracy: 0.3441 - loss: 5.5690 - val_accuracy: 0.3333 - val_loss: 10.7461\n",
            "Epoch 10/10\n",
            "\u001b[1m2/2\u001b[0m \u001b[32m━━━━━━━━━━━━━━━━━━━━\u001b[0m\u001b[37m\u001b[0m \u001b[1m28s\u001b[0m 15s/step - accuracy: 0.3441 - loss: 6.5162 - val_accuracy: 0.3333 - val_loss: 10.7461\n",
            "\u001b[1m1/1\u001b[0m \u001b[32m━━━━━━━━━━━━━━━━━━━━\u001b[0m\u001b[37m\u001b[0m \u001b[1m3s\u001b[0m 3s/step\n",
            "Test Accuracy: 0.3333333333333333\n"
          ]
        },
        {
          "output_type": "display_data",
          "data": {
            "text/plain": [
              "<Figure size 640x480 with 2 Axes>"
            ],
            "image/png": "[encoded data removed]"
          },
          "metadata": {}
        },
        {
          "output_type": "stream",
          "name": "stdout",
          "text": [
            "[I 2025-03-07 05:48:22,852] Trial 6 finished with value: 10.746123313903809 and parameters: {'learning_rate': 1.893562137149962e-05, 'dropout_rate': 0.3060794846176752, 'batch_size': 32, 'weight_decay': 8.724883318874547e-05, 'lstm_units': 32}. Best is trial 2 with value: 0.7450165152549744.\n",
            "Epoch 1/10\n"
          ]
        },
        {
          "output_type": "stream",
          "name": "stderr",
          "text": [
            "<ipython-input-3-1d8b81e3c383>:134: FutureWarning: suggest_loguniform has been deprecated in v3.0.0. This feature will be removed in v6.0.0. See https://github.com/optuna/optuna/releases/tag/v3.0.0. Use suggest_float(..., log=True) instead.\n",
            "  lr = trial.suggest_loguniform(\"learning_rate\", 1e-5, 1e-2)\n",
            "<ipython-input-3-1d8b81e3c383>:135: FutureWarning: suggest_uniform has been deprecated in v3.0.0. This feature will be removed in v6.0.0. See https://github.com/optuna/optuna/releases/tag/v3.0.0. Use suggest_float instead.\n",
            "  dr = trial.suggest_uniform(\"dropout_rate\", 0.1, 0.5)\n",
            "<ipython-input-3-1d8b81e3c383>:137: FutureWarning: suggest_loguniform has been deprecated in v3.0.0. This feature will be removed in v6.0.0. See https://github.com/optuna/optuna/releases/tag/v3.0.0. Use suggest_float(..., log=True) instead.\n",
            "  wd = trial.suggest_loguniform(\"weight_decay\", 1e-5, 1e-3)\n",
            "/usr/local/lib/python3.11/dist-packages/keras/src/layers/core/masking.py:47: UserWarning: Do not pass an `input_shape`/`input_dim` argument to a layer. When using Sequential models, prefer using an `Input(shape)` object as the first layer in the model instead.\n",
            "  super().__init__(**kwargs)\n"
          ]
        },
        {
          "output_type": "stream",
          "name": "stdout",
          "text": [
            "\u001b[1m2/2\u001b[0m \u001b[32m━━━━━━━━━━━━━━━━━━━━\u001b[0m\u001b[37m\u001b[0m \u001b[1m31s\u001b[0m 15s/step - accuracy: 0.3441 - loss: 6.5296 - val_accuracy: 0.3333 - val_loss: 10.7491\n",
            "Epoch 2/10\n",
            "\u001b[1m2/2\u001b[0m \u001b[32m━━━━━━━━━━━━━━━━━━━━\u001b[0m\u001b[37m\u001b[0m \u001b[1m41s\u001b[0m 14s/step - accuracy: 0.3441 - loss: 4.9532 - val_accuracy: 0.3333 - val_loss: 10.7491\n",
            "Epoch 3/10\n",
            "\u001b[1m2/2\u001b[0m \u001b[32m━━━━━━━━━━━━━━━━━━━━\u001b[0m\u001b[37m\u001b[0m \u001b[1m27s\u001b[0m 15s/step - accuracy: 0.3441 - loss: 4.9932 - val_accuracy: 0.3333 - val_loss: 10.7491\n",
            "Epoch 4/10\n",
            "\u001b[1m2/2\u001b[0m \u001b[32m━━━━━━━━━━━━━━━━━━━━\u001b[0m\u001b[37m\u001b[0m \u001b[1m41s\u001b[0m 15s/step - accuracy: 0.3441 - loss: 5.3866 - val_accuracy: 0.3333 - val_loss: 10.7491\n",
            "Epoch 5/10\n",
            "\u001b[1m2/2\u001b[0m \u001b[32m━━━━━━━━━━━━━━━━━━━━\u001b[0m\u001b[37m\u001b[0m \u001b[1m27s\u001b[0m 14s/step - accuracy: 0.3441 - loss: 4.7697 - val_accuracy: 0.3333 - val_loss: 10.7491\n",
            "Epoch 6/10\n",
            "\u001b[1m2/2\u001b[0m \u001b[32m━━━━━━━━━━━━━━━━━━━━\u001b[0m\u001b[37m\u001b[0m \u001b[1m42s\u001b[0m 15s/step - accuracy: 0.3441 - loss: 5.0927 - val_accuracy: 0.3333 - val_loss: 10.7491\n",
            "Epoch 7/10\n",
            "\u001b[1m2/2\u001b[0m \u001b[32m━━━━━━━━━━━━━━━━━━━━\u001b[0m\u001b[37m\u001b[0m \u001b[1m50s\u001b[0m 24s/step - accuracy: 0.3441 - loss: 5.2135 - val_accuracy: 0.3333 - val_loss: 9.7390\n",
            "Epoch 8/10\n",
            "\u001b[1m2/2\u001b[0m \u001b[32m━━━━━━━━━━━━━━━━━━━━\u001b[0m\u001b[37m\u001b[0m \u001b[1m29s\u001b[0m 15s/step - accuracy: 0.3441 - loss: 5.1018 - val_accuracy: 0.3333 - val_loss: 9.5907\n",
            "Epoch 9/10\n",
            "\u001b[1m2/2\u001b[0m \u001b[32m━━━━━━━━━━━━━━━━━━━━\u001b[0m\u001b[37m\u001b[0m \u001b[1m27s\u001b[0m 14s/step - accuracy: 0.3441 - loss: 4.6641 - val_accuracy: 0.3333 - val_loss: 9.5285\n",
            "Epoch 10/10\n",
            "\u001b[1m2/2\u001b[0m \u001b[32m━━━━━━━━━━━━━━━━━━━━\u001b[0m\u001b[37m\u001b[0m \u001b[1m42s\u001b[0m 15s/step - accuracy: 0.3441 - loss: 4.1114 - val_accuracy: 0.3333 - val_loss: 8.4023\n",
            "\u001b[1m1/1\u001b[0m \u001b[32m━━━━━━━━━━━━━━━━━━━━\u001b[0m\u001b[37m\u001b[0m \u001b[1m4s\u001b[0m 4s/step\n",
            "Test Accuracy: 0.3333333333333333\n"
          ]
        },
        {
          "output_type": "display_data",
          "data": {
            "text/plain": [
              "<Figure size 640x480 with 2 Axes>"
            ],
            "image/png": "[encoded data removed]"
          },
          "metadata": {}
        },
        {
          "output_type": "stream",
          "name": "stdout",
          "text": [
            "[I 2025-03-07 05:54:38,152] Trial 7 finished with value: 8.4022798538208 and parameters: {'learning_rate': 0.0001432414020932821, 'dropout_rate': 0.4797150544994321, 'batch_size': 32, 'weight_decay': 0.0004560986365223945, 'lstm_units': 32}. Best is trial 2 with value: 0.7450165152549744.\n",
            "Epoch 1/10\n"
          ]
        },
        {
          "output_type": "stream",
          "name": "stderr",
          "text": [
            "<ipython-input-3-1d8b81e3c383>:134: FutureWarning: suggest_loguniform has been deprecated in v3.0.0. This feature will be removed in v6.0.0. See https://github.com/optuna/optuna/releases/tag/v3.0.0. Use suggest_float(..., log=True) instead.\n",
            "  lr = trial.suggest_loguniform(\"learning_rate\", 1e-5, 1e-2)\n",
            "<ipython-input-3-1d8b81e3c383>:135: FutureWarning: suggest_uniform has been deprecated in v3.0.0. This feature will be removed in v6.0.0. See https://github.com/optuna/optuna/releases/tag/v3.0.0. Use suggest_float instead.\n",
            "  dr = trial.suggest_uniform(\"dropout_rate\", 0.1, 0.5)\n",
            "<ipython-input-3-1d8b81e3c383>:137: FutureWarning: suggest_loguniform has been deprecated in v3.0.0. This feature will be removed in v6.0.0. See https://github.com/optuna/optuna/releases/tag/v3.0.0. Use suggest_float(..., log=True) instead.\n",
            "  wd = trial.suggest_loguniform(\"weight_decay\", 1e-5, 1e-3)\n",
            "/usr/local/lib/python3.11/dist-packages/keras/src/layers/core/masking.py:47: UserWarning: Do not pass an `input_shape`/`input_dim` argument to a layer. When using Sequential models, prefer using an `Input(shape)` object as the first layer in the model instead.\n",
            "  super().__init__(**kwargs)\n"
          ]
        },
        {
          "output_type": "stream",
          "name": "stdout",
          "text": [
            "\u001b[1m4/4\u001b[0m \u001b[32m━━━━━━━━━━━━━━━━━━━━\u001b[0m\u001b[37m\u001b[0m \u001b[1m51s\u001b[0m 12s/step - accuracy: 0.3773 - loss: 5.1378 - val_accuracy: 0.3333 - val_loss: 3.1713\n",
            "Epoch 2/10\n",
            "\u001b[1m4/4\u001b[0m \u001b[32m━━━━━━━━━━━━━━━━━━━━\u001b[0m\u001b[37m\u001b[0m \u001b[1m81s\u001b[0m 12s/step - accuracy: 0.3773 - loss: 3.2689 - val_accuracy: 0.3333 - val_loss: 2.9321\n",
            "Epoch 3/10\n",
            "\u001b[1m4/4\u001b[0m \u001b[32m━━━━━━━━━━━━━━━━━━━━\u001b[0m\u001b[37m\u001b[0m \u001b[1m81s\u001b[0m 12s/step - accuracy: 0.3773 - loss: 2.7945 - val_accuracy: 0.3333 - val_loss: 2.7651\n",
            "Epoch 4/10\n",
            "\u001b[1m4/4\u001b[0m \u001b[32m━━━━━━━━━━━━━━━━━━━━\u001b[0m\u001b[37m\u001b[0m \u001b[1m82s\u001b[0m 12s/step - accuracy: 0.3773 - loss: 2.8854 - val_accuracy: 0.3333 - val_loss: 2.6421\n",
            "Epoch 5/10\n",
            "\u001b[1m4/4\u001b[0m \u001b[32m━━━━━━━━━━━━━━━━━━━━\u001b[0m\u001b[37m\u001b[0m \u001b[1m85s\u001b[0m 13s/step - accuracy: 0.3773 - loss: 2.5629 - val_accuracy: 0.3333 - val_loss: 2.5461\n",
            "Epoch 6/10\n",
            "\u001b[1m4/4\u001b[0m \u001b[32m━━━━━━━━━━━━━━━━━━━━\u001b[0m\u001b[37m\u001b[0m \u001b[1m51s\u001b[0m 13s/step - accuracy: 0.3773 - loss: 2.3679 - val_accuracy: 0.3333 - val_loss: 2.4711\n",
            "Epoch 7/10\n",
            "\u001b[1m4/4\u001b[0m \u001b[32m━━━━━━━━━━━━━━━━━━━━\u001b[0m\u001b[37m\u001b[0m \u001b[1m81s\u001b[0m 13s/step - accuracy: 0.3773 - loss: 2.2101 - val_accuracy: 0.3333 - val_loss: 2.4080\n",
            "Epoch 8/10\n",
            "\u001b[1m4/4\u001b[0m \u001b[32m━━━━━━━━━━━━━━━━━━━━\u001b[0m\u001b[37m\u001b[0m \u001b[1m84s\u001b[0m 13s/step - accuracy: 0.3773 - loss: 2.0783 - val_accuracy: 0.3333 - val_loss: 2.3552\n",
            "Epoch 9/10\n",
            "\u001b[1m4/4\u001b[0m \u001b[32m━━━━━━━━━━━━━━━━━━━━\u001b[0m\u001b[37m\u001b[0m \u001b[1m47s\u001b[0m 12s/step - accuracy: 0.3773 - loss: 2.0637 - val_accuracy: 0.3333 - val_loss: 2.3112\n",
            "Epoch 10/10\n",
            "\u001b[1m4/4\u001b[0m \u001b[32m━━━━━━━━━━━━━━━━━━━━\u001b[0m\u001b[37m\u001b[0m \u001b[1m47s\u001b[0m 12s/step - accuracy: 0.3773 - loss: 2.0278 - val_accuracy: 0.3333 - val_loss: 2.2739\n",
            "\u001b[1m1/1\u001b[0m \u001b[32m━━━━━━━━━━━━━━━━━━━━\u001b[0m\u001b[37m\u001b[0m \u001b[1m2s\u001b[0m 2s/step\n",
            "Test Accuracy: 0.3333333333333333\n"
          ]
        },
        {
          "output_type": "display_data",
          "data": {
            "text/plain": [
              "<Figure size 640x480 with 2 Axes>"
            ],
            "image/png": "[encoded data removed]"
          },
          "metadata": {}
        },
        {
          "output_type": "stream",
          "name": "stdout",
          "text": [
            "[I 2025-03-07 06:06:47,082] Trial 8 finished with value: 2.2738966941833496 and parameters: {'learning_rate': 5.945385774264234e-05, 'dropout_rate': 0.3652489047414974, 'batch_size': 16, 'weight_decay': 8.786786237613473e-05, 'lstm_units': 32}. Best is trial 2 with value: 0.7450165152549744.\n",
            "Epoch 1/10\n"
          ]
        },
        {
          "output_type": "stream",
          "name": "stderr",
          "text": [
            "<ipython-input-3-1d8b81e3c383>:134: FutureWarning: suggest_loguniform has been deprecated in v3.0.0. This feature will be removed in v6.0.0. See https://github.com/optuna/optuna/releases/tag/v3.0.0. Use suggest_float(..., log=True) instead.\n",
            "  lr = trial.suggest_loguniform(\"learning_rate\", 1e-5, 1e-2)\n",
            "<ipython-input-3-1d8b81e3c383>:135: FutureWarning: suggest_uniform has been deprecated in v3.0.0. This feature will be removed in v6.0.0. See https://github.com/optuna/optuna/releases/tag/v3.0.0. Use suggest_float instead.\n",
            "  dr = trial.suggest_uniform(\"dropout_rate\", 0.1, 0.5)\n",
            "<ipython-input-3-1d8b81e3c383>:137: FutureWarning: suggest_loguniform has been deprecated in v3.0.0. This feature will be removed in v6.0.0. See https://github.com/optuna/optuna/releases/tag/v3.0.0. Use suggest_float(..., log=True) instead.\n",
            "  wd = trial.suggest_loguniform(\"weight_decay\", 1e-5, 1e-3)\n",
            "/usr/local/lib/python3.11/dist-packages/keras/src/layers/core/masking.py:47: UserWarning: Do not pass an `input_shape`/`input_dim` argument to a layer. When using Sequential models, prefer using an `Input(shape)` object as the first layer in the model instead.\n",
            "  super().__init__(**kwargs)\n"
          ]
        },
        {
          "output_type": "stream",
          "name": "stdout",
          "text": [
            "\u001b[1m2/2\u001b[0m \u001b[32m━━━━━━━━━━━━━━━━━━━━\u001b[0m\u001b[37m\u001b[0m \u001b[1m32s\u001b[0m 16s/step - accuracy: 0.3441 - loss: 7.5523 - val_accuracy: 0.3333 - val_loss: 10.7471\n",
            "Epoch 2/10\n",
            "\u001b[1m2/2\u001b[0m \u001b[32m━━━━━━━━━━━━━━━━━━━━\u001b[0m\u001b[37m\u001b[0m \u001b[1m28s\u001b[0m 15s/step - accuracy: 0.3441 - loss: 6.0467 - val_accuracy: 0.3333 - val_loss: 8.3321\n",
            "Epoch 3/10\n",
            "\u001b[1m2/2\u001b[0m \u001b[32m━━━━━━━━━━━━━━━━━━━━\u001b[0m\u001b[37m\u001b[0m \u001b[1m40s\u001b[0m 15s/step - accuracy: 0.3441 - loss: 4.8332 - val_accuracy: 0.3333 - val_loss: 2.2029\n",
            "Epoch 4/10\n",
            "\u001b[1m2/2\u001b[0m \u001b[32m━━━━━━━━━━━━━━━━━━━━\u001b[0m\u001b[37m\u001b[0m \u001b[1m40s\u001b[0m 15s/step - accuracy: 0.3441 - loss: 1.5530 - val_accuracy: 0.3333 - val_loss: 1.7080\n",
            "Epoch 5/10\n",
            "\u001b[1m2/2\u001b[0m \u001b[32m━━━━━━━━━━━━━━━━━━━━\u001b[0m\u001b[37m\u001b[0m \u001b[1m42s\u001b[0m 15s/step - accuracy: 0.3441 - loss: 1.2736 - val_accuracy: 0.3333 - val_loss: 1.4585\n",
            "Epoch 6/10\n",
            "\u001b[1m2/2\u001b[0m \u001b[32m━━━━━━━━━━━━━━━━━━━━\u001b[0m\u001b[37m\u001b[0m \u001b[1m41s\u001b[0m 15s/step - accuracy: 0.3441 - loss: 1.0802 - val_accuracy: 0.3333 - val_loss: 1.2968\n",
            "Epoch 7/10\n",
            "\u001b[1m2/2\u001b[0m \u001b[32m━━━━━━━━━━━━━━━━━━━━\u001b[0m\u001b[37m\u001b[0m \u001b[1m43s\u001b[0m 17s/step - accuracy: 0.3441 - loss: 0.9870 - val_accuracy: 0.3333 - val_loss: 1.1798\n",
            "Epoch 8/10\n",
            "\u001b[1m2/2\u001b[0m \u001b[32m━━━━━━━━━━━━━━━━━━━━\u001b[0m\u001b[37m\u001b[0m \u001b[1m40s\u001b[0m 15s/step - accuracy: 0.3550 - loss: 0.9530 - val_accuracy: 0.3333 - val_loss: 1.0896\n",
            "Epoch 9/10\n",
            "\u001b[1m2/2\u001b[0m \u001b[32m━━━━━━━━━━━━━━━━━━━━\u001b[0m\u001b[37m\u001b[0m \u001b[1m40s\u001b[0m 15s/step - accuracy: 0.3764 - loss: 0.7845 - val_accuracy: 0.3333 - val_loss: 1.0154\n",
            "Epoch 10/10\n",
            "\u001b[1m2/2\u001b[0m \u001b[32m━━━━━━━━━━━━━━━━━━━━\u001b[0m\u001b[37m\u001b[0m \u001b[1m27s\u001b[0m 15s/step - accuracy: 0.3654 - loss: 0.8027 - val_accuracy: 0.3333 - val_loss: 0.9529\n",
            "\u001b[1m1/1\u001b[0m \u001b[32m━━━━━━━━━━━━━━━━━━━━\u001b[0m\u001b[37m\u001b[0m \u001b[1m2s\u001b[0m 2s/step\n",
            "Test Accuracy: 0.3888888888888889\n"
          ]
        },
        {
          "output_type": "display_data",
          "data": {
            "text/plain": [
              "<Figure size 640x480 with 2 Axes>"
            ],
            "image/png": "[encoded data removed]"
          },
          "metadata": {}
        },
        {
          "output_type": "stream",
          "name": "stdout",
          "text": [
            "[I 2025-03-07 06:13:03,247] Trial 9 finished with value: 0.9528778791427612 and parameters: {'learning_rate': 0.0013221929997105485, 'dropout_rate': 0.21050602261222645, 'batch_size': 32, 'weight_decay': 0.00021871433928917933, 'lstm_units': 32}. Best is trial 2 with value: 0.7450165152549744.\n",
            "Best hyperparameters:\n",
            "{'learning_rate': 0.0015722873806834551, 'dropout_rate': 0.3937392288078445, 'batch_size': 64, 'weight_decay': 0.00047822792484812334, 'lstm_units': 64}\n",
            "Best Test Accuracy: 0.8333333333333334\n"
          ]
        }
      ]
    }
  ]
}